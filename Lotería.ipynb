{
 "cells": [
  {
   "cell_type": "code",
   "execution_count": 1,
   "metadata": {},
   "outputs": [],
   "source": [
    "import numpy as np\n",
    "import time\n",
    "import random"
   ]
  },
  {
   "cell_type": "code",
   "execution_count": 2,
   "metadata": {},
   "outputs": [],
   "source": [
    "def sorteo(n_equipos):\n",
    "    l_equipos = ['eq_%02d'%i for i in range(1,n_equipos+1)]\n",
    "    datos = {'fake news':1,'fake jobs':2,'attrition':3,'e-commerce':4,'brazilian houses':5}\n",
    "    l = list(datos.keys())\n",
    "    l_equipos = random.sample(l_equipos,n_equipos)\n",
    "    \n",
    "    for eq in l_equipos:\n",
    "        ficha = np.random.choice(l)\n",
    "        print('🥁🥁🥁')\n",
    "        time.sleep(5)\n",
    "        print('%s le corresponde la tabla %s'%(eq,ficha))\n",
    "        l.remove(ficha)"
   ]
  },
  {
   "cell_type": "code",
   "execution_count": 3,
   "metadata": {},
   "outputs": [
    {
     "name": "stdout",
     "output_type": "stream",
     "text": [
      "🥁🥁🥁\n",
      "eq_01 le corresponde la tabla attrition\n",
      "🥁🥁🥁\n",
      "eq_02 le corresponde la tabla e-commerce\n",
      "🥁🥁🥁\n",
      "eq_05 le corresponde la tabla fake news\n",
      "🥁🥁🥁\n",
      "eq_04 le corresponde la tabla brazilian houses\n",
      "🥁🥁🥁\n",
      "eq_03 le corresponde la tabla fake jobs\n"
     ]
    }
   ],
   "source": [
    "sorteo(5)"
   ]
  },
  {
   "cell_type": "code",
   "execution_count": null,
   "metadata": {},
   "outputs": [],
   "source": []
  }
 ],
 "metadata": {
  "kernelspec": {
   "display_name": "Python 3",
   "language": "python",
   "name": "python3"
  },
  "language_info": {
   "codemirror_mode": {
    "name": "ipython",
    "version": 3
   },
   "file_extension": ".py",
   "mimetype": "text/x-python",
   "name": "python",
   "nbconvert_exporter": "python",
   "pygments_lexer": "ipython3",
   "version": "3.6.8"
  }
 },
 "nbformat": 4,
 "nbformat_minor": 4
}
