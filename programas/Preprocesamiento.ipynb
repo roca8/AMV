{
 "cells": [
  {
   "cell_type": "code",
   "execution_count": 92,
   "metadata": {},
   "outputs": [],
   "source": [
    "import pandas as pd\n",
    "import os\n",
    "import numpy as np\n",
    "from datetime import date,datetime\n",
    "from dateutil.relativedelta import relativedelta as rd\n",
    "from functools import reduce\n",
    "%matplotlib inline"
   ]
  },
  {
   "cell_type": "code",
   "execution_count": 61,
   "metadata": {},
   "outputs": [],
   "source": [
    "fhi = date(2018,11,1)\n",
    "fhf = date(2019,10,1)"
   ]
  },
  {
   "cell_type": "code",
   "execution_count": 74,
   "metadata": {},
   "outputs": [
    {
     "name": "stdout",
     "output_type": "stream",
     "text": [
      "2018-11-01\n"
     ]
    },
    {
     "name": "stderr",
     "output_type": "stream",
     "text": [
      "<string>:2: DtypeWarning: Columns (2) have mixed types.Specify dtype option on import or set low_memory=False.\n",
      "/home/jose/Documentos/phd/codigos/lib64/python3.6/site-packages/pandas/core/ops/array_ops.py:252: FutureWarning: elementwise comparison failed; returning scalar instead, but in the future will perform elementwise comparison\n",
      "  res_values = method(rvalues)\n"
     ]
    },
    {
     "name": "stdout",
     "output_type": "stream",
     "text": [
      "2018-12-01\n",
      "2019-01-01\n",
      "2019-02-01\n",
      "2019-03-01\n"
     ]
    },
    {
     "name": "stderr",
     "output_type": "stream",
     "text": [
      "<string>:2: DtypeWarning: Columns (2,6,9) have mixed types.Specify dtype option on import or set low_memory=False.\n"
     ]
    },
    {
     "name": "stdout",
     "output_type": "stream",
     "text": [
      "2019-04-01\n",
      "2019-05-01\n",
      "2019-06-01\n",
      "2019-07-01\n",
      "2019-08-01\n",
      "2019-09-01\n",
      "2019-10-01\n",
      "CPU times: user 10 s, sys: 402 ms, total: 10.4 s\n",
      "Wall time: 10.5 s\n"
     ]
    }
   ],
   "source": [
    "%%time\n",
    "l = []\n",
    "for k in range(rd(fhf,fhi).months+1):\n",
    "    fh = fhi+rd(months=k)\n",
    "    print(fh)\n",
    "    df = pd.read_csv('data/%s.csv'%fh.strftime('%Y-%m'))\n",
    "    df = df[['Ciclo_Estacion_Arribo','Genero_Usuario']]\n",
    "    df = df.loc[df['Ciclo_Estacion_Arribo']!='32:11.8']\n",
    "    df.reset_index(inplace=True,drop=True)\n",
    "    df['Ciclo_Estacion_Arribo'] = df['Ciclo_Estacion_Arribo'].astype(int)\n",
    "    df = df.groupby('Ciclo_Estacion_Arribo').count()\n",
    "    df.reset_index(inplace=True)\n",
    "    df.rename(columns={'Genero_Usuario':'n_viajes_%02d'%(12-k)},inplace=True)\n",
    "    l.append(df)"
   ]
  },
  {
   "cell_type": "code",
   "execution_count": 75,
   "metadata": {},
   "outputs": [
    {
     "name": "stdout",
     "output_type": "stream",
     "text": [
      "CPU times: user 63 ms, sys: 1.01 ms, total: 64 ms\n",
      "Wall time: 74.2 ms\n"
     ]
    }
   ],
   "source": [
    "%%time\n",
    "df = reduce(lambda x,y:pd.merge(x,y,on='Ciclo_Estacion_Arribo',how='outer'),l)"
   ]
  },
  {
   "cell_type": "code",
   "execution_count": 76,
   "metadata": {},
   "outputs": [],
   "source": [
    "var = sorted([v for v in df.columns if v[:2]=='n_'])"
   ]
  },
  {
   "cell_type": "code",
   "execution_count": 84,
   "metadata": {},
   "outputs": [],
   "source": [
    "for v in var:\n",
    "    df['d_%s'%v] = (~df[v].isnull()).astype(int)"
   ]
  },
  {
   "cell_type": "code",
   "execution_count": 89,
   "metadata": {},
   "outputs": [],
   "source": [
    "df['apariciones'] = df[[v for v in df.columns if v[:2]=='d_']].sum(axis=1)"
   ]
  },
  {
   "cell_type": "code",
   "execution_count": 95,
   "metadata": {},
   "outputs": [
    {
     "data": {
      "text/plain": [
       "count    484.000000\n",
       "mean      11.919421\n",
       "std        0.704698\n",
       "min        2.000000\n",
       "0%         2.000000\n",
       "5%        12.000000\n",
       "10%       12.000000\n",
       "15%       12.000000\n",
       "20%       12.000000\n",
       "25%       12.000000\n",
       "30%       12.000000\n",
       "35%       12.000000\n",
       "40%       12.000000\n",
       "45%       12.000000\n",
       "50%       12.000000\n",
       "55%       12.000000\n",
       "60%       12.000000\n",
       "65%       12.000000\n",
       "70%       12.000000\n",
       "75%       12.000000\n",
       "80%       12.000000\n",
       "85%       12.000000\n",
       "90%       12.000000\n",
       "95%       12.000000\n",
       "max       12.000000\n",
       "Name: apariciones, dtype: float64"
      ]
     },
     "execution_count": 95,
     "metadata": {},
     "output_type": "execute_result"
    }
   ],
   "source": [
    "df.apariciones.describe(percentiles=np.arange(0,1,0.05))"
   ]
  },
  {
   "cell_type": "code",
   "execution_count": 96,
   "metadata": {},
   "outputs": [],
   "source": [
    "df = df.loc[df.apariciones==12]\n",
    "df.reset_index(drop=True,inplace=True)"
   ]
  },
  {
   "cell_type": "code",
   "execution_count": 97,
   "metadata": {},
   "outputs": [
    {
     "data": {
      "text/html": [
       "<div>\n",
       "<style scoped>\n",
       "    .dataframe tbody tr th:only-of-type {\n",
       "        vertical-align: middle;\n",
       "    }\n",
       "\n",
       "    .dataframe tbody tr th {\n",
       "        vertical-align: top;\n",
       "    }\n",
       "\n",
       "    .dataframe thead th {\n",
       "        text-align: right;\n",
       "    }\n",
       "</style>\n",
       "<table border=\"1\" class=\"dataframe\">\n",
       "  <thead>\n",
       "    <tr style=\"text-align: right;\">\n",
       "      <th></th>\n",
       "      <th>Ciclo_Estacion_Arribo</th>\n",
       "      <th>n_viajes_12</th>\n",
       "      <th>n_viajes_11</th>\n",
       "      <th>n_viajes_10</th>\n",
       "      <th>n_viajes_09</th>\n",
       "      <th>n_viajes_08</th>\n",
       "      <th>n_viajes_07</th>\n",
       "      <th>n_viajes_06</th>\n",
       "      <th>n_viajes_05</th>\n",
       "      <th>n_viajes_04</th>\n",
       "      <th>...</th>\n",
       "      <th>d_n_viajes_04</th>\n",
       "      <th>d_n_viajes_05</th>\n",
       "      <th>d_n_viajes_06</th>\n",
       "      <th>d_n_viajes_07</th>\n",
       "      <th>d_n_viajes_08</th>\n",
       "      <th>d_n_viajes_09</th>\n",
       "      <th>d_n_viajes_10</th>\n",
       "      <th>d_n_viajes_11</th>\n",
       "      <th>d_n_viajes_12</th>\n",
       "      <th>apariciones</th>\n",
       "    </tr>\n",
       "  </thead>\n",
       "  <tbody>\n",
       "    <tr>\n",
       "      <th>0</th>\n",
       "      <td>1</td>\n",
       "      <td>6114.0</td>\n",
       "      <td>5586.0</td>\n",
       "      <td>6682.0</td>\n",
       "      <td>6259.0</td>\n",
       "      <td>6788.0</td>\n",
       "      <td>6357.0</td>\n",
       "      <td>7108.0</td>\n",
       "      <td>6382.0</td>\n",
       "      <td>6485.0</td>\n",
       "      <td>...</td>\n",
       "      <td>1</td>\n",
       "      <td>1</td>\n",
       "      <td>1</td>\n",
       "      <td>1</td>\n",
       "      <td>1</td>\n",
       "      <td>1</td>\n",
       "      <td>1</td>\n",
       "      <td>1</td>\n",
       "      <td>1</td>\n",
       "      <td>12</td>\n",
       "    </tr>\n",
       "    <tr>\n",
       "      <th>1</th>\n",
       "      <td>2</td>\n",
       "      <td>1626.0</td>\n",
       "      <td>1267.0</td>\n",
       "      <td>1745.0</td>\n",
       "      <td>1687.0</td>\n",
       "      <td>1915.0</td>\n",
       "      <td>1748.0</td>\n",
       "      <td>1998.0</td>\n",
       "      <td>2057.0</td>\n",
       "      <td>2077.0</td>\n",
       "      <td>...</td>\n",
       "      <td>1</td>\n",
       "      <td>1</td>\n",
       "      <td>1</td>\n",
       "      <td>1</td>\n",
       "      <td>1</td>\n",
       "      <td>1</td>\n",
       "      <td>1</td>\n",
       "      <td>1</td>\n",
       "      <td>1</td>\n",
       "      <td>12</td>\n",
       "    </tr>\n",
       "    <tr>\n",
       "      <th>2</th>\n",
       "      <td>3</td>\n",
       "      <td>2097.0</td>\n",
       "      <td>2008.0</td>\n",
       "      <td>2198.0</td>\n",
       "      <td>2208.0</td>\n",
       "      <td>2431.0</td>\n",
       "      <td>1833.0</td>\n",
       "      <td>2123.0</td>\n",
       "      <td>2027.0</td>\n",
       "      <td>2162.0</td>\n",
       "      <td>...</td>\n",
       "      <td>1</td>\n",
       "      <td>1</td>\n",
       "      <td>1</td>\n",
       "      <td>1</td>\n",
       "      <td>1</td>\n",
       "      <td>1</td>\n",
       "      <td>1</td>\n",
       "      <td>1</td>\n",
       "      <td>1</td>\n",
       "      <td>12</td>\n",
       "    </tr>\n",
       "    <tr>\n",
       "      <th>3</th>\n",
       "      <td>5</td>\n",
       "      <td>1957.0</td>\n",
       "      <td>1610.0</td>\n",
       "      <td>1786.0</td>\n",
       "      <td>2101.0</td>\n",
       "      <td>2365.0</td>\n",
       "      <td>2174.0</td>\n",
       "      <td>2266.0</td>\n",
       "      <td>2005.0</td>\n",
       "      <td>2086.0</td>\n",
       "      <td>...</td>\n",
       "      <td>1</td>\n",
       "      <td>1</td>\n",
       "      <td>1</td>\n",
       "      <td>1</td>\n",
       "      <td>1</td>\n",
       "      <td>1</td>\n",
       "      <td>1</td>\n",
       "      <td>1</td>\n",
       "      <td>1</td>\n",
       "      <td>12</td>\n",
       "    </tr>\n",
       "    <tr>\n",
       "      <th>4</th>\n",
       "      <td>6</td>\n",
       "      <td>2330.0</td>\n",
       "      <td>1838.0</td>\n",
       "      <td>2429.0</td>\n",
       "      <td>2515.0</td>\n",
       "      <td>2696.0</td>\n",
       "      <td>2564.0</td>\n",
       "      <td>2766.0</td>\n",
       "      <td>2557.0</td>\n",
       "      <td>2666.0</td>\n",
       "      <td>...</td>\n",
       "      <td>1</td>\n",
       "      <td>1</td>\n",
       "      <td>1</td>\n",
       "      <td>1</td>\n",
       "      <td>1</td>\n",
       "      <td>1</td>\n",
       "      <td>1</td>\n",
       "      <td>1</td>\n",
       "      <td>1</td>\n",
       "      <td>12</td>\n",
       "    </tr>\n",
       "  </tbody>\n",
       "</table>\n",
       "<p>5 rows × 26 columns</p>\n",
       "</div>"
      ],
      "text/plain": [
       "   Ciclo_Estacion_Arribo  n_viajes_12  n_viajes_11  n_viajes_10  n_viajes_09  \\\n",
       "0                      1       6114.0       5586.0       6682.0       6259.0   \n",
       "1                      2       1626.0       1267.0       1745.0       1687.0   \n",
       "2                      3       2097.0       2008.0       2198.0       2208.0   \n",
       "3                      5       1957.0       1610.0       1786.0       2101.0   \n",
       "4                      6       2330.0       1838.0       2429.0       2515.0   \n",
       "\n",
       "   n_viajes_08  n_viajes_07  n_viajes_06  n_viajes_05  n_viajes_04  ...  \\\n",
       "0       6788.0       6357.0       7108.0       6382.0       6485.0  ...   \n",
       "1       1915.0       1748.0       1998.0       2057.0       2077.0  ...   \n",
       "2       2431.0       1833.0       2123.0       2027.0       2162.0  ...   \n",
       "3       2365.0       2174.0       2266.0       2005.0       2086.0  ...   \n",
       "4       2696.0       2564.0       2766.0       2557.0       2666.0  ...   \n",
       "\n",
       "   d_n_viajes_04  d_n_viajes_05  d_n_viajes_06  d_n_viajes_07  d_n_viajes_08  \\\n",
       "0              1              1              1              1              1   \n",
       "1              1              1              1              1              1   \n",
       "2              1              1              1              1              1   \n",
       "3              1              1              1              1              1   \n",
       "4              1              1              1              1              1   \n",
       "\n",
       "   d_n_viajes_09  d_n_viajes_10  d_n_viajes_11  d_n_viajes_12  apariciones  \n",
       "0              1              1              1              1           12  \n",
       "1              1              1              1              1           12  \n",
       "2              1              1              1              1           12  \n",
       "3              1              1              1              1           12  \n",
       "4              1              1              1              1           12  \n",
       "\n",
       "[5 rows x 26 columns]"
      ]
     },
     "execution_count": 97,
     "metadata": {},
     "output_type": "execute_result"
    }
   ],
   "source": [
    "df.head()"
   ]
  },
  {
   "cell_type": "code",
   "execution_count": 99,
   "metadata": {},
   "outputs": [],
   "source": [
    "df.drop([v for v in df.columns if v[:2]=='d_'],axis=1,inplace=True)"
   ]
  },
  {
   "cell_type": "code",
   "execution_count": 100,
   "metadata": {},
   "outputs": [
    {
     "data": {
      "text/plain": [
       "(472, 14)"
      ]
     },
     "execution_count": 100,
     "metadata": {},
     "output_type": "execute_result"
    }
   ],
   "source": [
    "df.shape"
   ]
  },
  {
   "cell_type": "code",
   "execution_count": 106,
   "metadata": {},
   "outputs": [],
   "source": [
    "for i,t in enumerate(list(zip(var[1:],var))):\n",
    "    df['d_%d'%(i+1)] = (df[t[0]]-df[t[1]])/df[t[0]]"
   ]
  },
  {
   "cell_type": "code",
   "execution_count": 108,
   "metadata": {},
   "outputs": [],
   "source": [
    "df['crec_prom'] = df[[v for v in df.columns if v[:2]=='d_']].mean(axis=1)"
   ]
  },
  {
   "cell_type": "code",
   "execution_count": 110,
   "metadata": {},
   "outputs": [],
   "source": [
    "df = df[['Ciclo_Estacion_Arribo','crec_prom']]"
   ]
  },
  {
   "cell_type": "code",
   "execution_count": 112,
   "metadata": {},
   "outputs": [
    {
     "name": "stderr",
     "output_type": "stream",
     "text": [
      "/home/jose/Documentos/phd/codigos/lib64/python3.6/site-packages/ipykernel_launcher.py:1: SettingWithCopyWarning: \n",
      "A value is trying to be set on a copy of a slice from a DataFrame\n",
      "\n",
      "See the caveats in the documentation: https://pandas.pydata.org/pandas-docs/stable/user_guide/indexing.html#returning-a-view-versus-a-copy\n",
      "  \"\"\"Entry point for launching an IPython kernel.\n"
     ]
    }
   ],
   "source": [
    "df.sort_values('crec_prom',ascending=False,inplace=True)"
   ]
  },
  {
   "cell_type": "code",
   "execution_count": 115,
   "metadata": {},
   "outputs": [
    {
     "data": {
      "text/html": [
       "<div>\n",
       "<style scoped>\n",
       "    .dataframe tbody tr th:only-of-type {\n",
       "        vertical-align: middle;\n",
       "    }\n",
       "\n",
       "    .dataframe tbody tr th {\n",
       "        vertical-align: top;\n",
       "    }\n",
       "\n",
       "    .dataframe thead th {\n",
       "        text-align: right;\n",
       "    }\n",
       "</style>\n",
       "<table border=\"1\" class=\"dataframe\">\n",
       "  <thead>\n",
       "    <tr style=\"text-align: right;\">\n",
       "      <th></th>\n",
       "      <th>Ciclo_Estacion_Arribo</th>\n",
       "      <th>crec_prom</th>\n",
       "    </tr>\n",
       "  </thead>\n",
       "  <tbody>\n",
       "    <tr>\n",
       "      <th>395</th>\n",
       "      <td>404</td>\n",
       "      <td>0.057695</td>\n",
       "    </tr>\n",
       "    <tr>\n",
       "      <th>222</th>\n",
       "      <td>230</td>\n",
       "      <td>0.015759</td>\n",
       "    </tr>\n",
       "    <tr>\n",
       "      <th>441</th>\n",
       "      <td>452</td>\n",
       "      <td>0.012489</td>\n",
       "    </tr>\n",
       "    <tr>\n",
       "      <th>359</th>\n",
       "      <td>368</td>\n",
       "      <td>0.011304</td>\n",
       "    </tr>\n",
       "    <tr>\n",
       "      <th>398</th>\n",
       "      <td>407</td>\n",
       "      <td>0.010403</td>\n",
       "    </tr>\n",
       "    <tr>\n",
       "      <th>340</th>\n",
       "      <td>349</td>\n",
       "      <td>0.010224</td>\n",
       "    </tr>\n",
       "    <tr>\n",
       "      <th>40</th>\n",
       "      <td>43</td>\n",
       "      <td>0.009860</td>\n",
       "    </tr>\n",
       "    <tr>\n",
       "      <th>187</th>\n",
       "      <td>195</td>\n",
       "      <td>0.007752</td>\n",
       "    </tr>\n",
       "    <tr>\n",
       "      <th>397</th>\n",
       "      <td>406</td>\n",
       "      <td>0.006844</td>\n",
       "    </tr>\n",
       "    <tr>\n",
       "      <th>217</th>\n",
       "      <td>225</td>\n",
       "      <td>0.006474</td>\n",
       "    </tr>\n",
       "  </tbody>\n",
       "</table>\n",
       "</div>"
      ],
      "text/plain": [
       "     Ciclo_Estacion_Arribo  crec_prom\n",
       "395                    404   0.057695\n",
       "222                    230   0.015759\n",
       "441                    452   0.012489\n",
       "359                    368   0.011304\n",
       "398                    407   0.010403\n",
       "340                    349   0.010224\n",
       "40                      43   0.009860\n",
       "187                    195   0.007752\n",
       "397                    406   0.006844\n",
       "217                    225   0.006474"
      ]
     },
     "execution_count": 115,
     "metadata": {},
     "output_type": "execute_result"
    }
   ],
   "source": [
    "df.head(10)"
   ]
  },
  {
   "cell_type": "code",
   "execution_count": 116,
   "metadata": {},
   "outputs": [
    {
     "data": {
      "text/plain": [
       "<matplotlib.axes._subplots.AxesSubplot at 0x7fd41f2d6470>"
      ]
     },
     "execution_count": 116,
     "metadata": {},
     "output_type": "execute_result"
    },
    {
     "data": {
      "image/png": "[encoded data removed]",
      "text/plain": [
       "<Figure size 432x288 with 1 Axes>"
      ]
     },
     "metadata": {
      "needs_background": "light"
     },
     "output_type": "display_data"
    }
   ],
   "source": [
    "df.crec_prom.hist()"
   ]
  },
  {
   "cell_type": "code",
   "execution_count": 117,
   "metadata": {},
   "outputs": [
    {
     "data": {
      "text/plain": [
       "count    472.000000\n",
       "mean      -0.027338\n",
       "std        0.032023\n",
       "min       -0.251232\n",
       "25%       -0.033127\n",
       "50%       -0.019188\n",
       "75%       -0.009827\n",
       "max        0.057695\n",
       "Name: crec_prom, dtype: float64"
      ]
     },
     "execution_count": 117,
     "metadata": {},
     "output_type": "execute_result"
    }
   ],
   "source": [
    "df.crec_prom.describe()"
   ]
  },
  {
   "cell_type": "code",
   "execution_count": null,
   "metadata": {},
   "outputs": [],
   "source": []
  }
 ],
 "metadata": {
  "kernelspec": {
   "display_name": "Python 3",
   "language": "python",
   "name": "python3"
  },
  "language_info": {
   "codemirror_mode": {
    "name": "ipython",
    "version": 3
   },
   "file_extension": ".py",
   "mimetype": "text/x-python",
   "name": "python",
   "nbconvert_exporter": "python",
   "pygments_lexer": "ipython3",
   "version": "3.6.8"
  }
 },
 "nbformat": 4,
 "nbformat_minor": 4
}
