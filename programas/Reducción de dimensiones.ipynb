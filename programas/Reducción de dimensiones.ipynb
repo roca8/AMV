{
 "cells": [
  {
   "cell_type": "code",
   "execution_count": 1,
   "metadata": {},
   "outputs": [],
   "source": [
    "import pandas as pd\n",
    "import seaborn as sns\n",
    "import matplotlib.pyplot as plt\n",
    "%matplotlib inline"
   ]
  },
  {
   "cell_type": "code",
   "execution_count": 23,
   "metadata": {},
   "outputs": [],
   "source": [
    "df = pd.read_pickle('churn_final.pickle')"
   ]
  },
  {
   "cell_type": "code",
   "execution_count": 24,
   "metadata": {},
   "outputs": [],
   "source": [
    "df.dropna(inplace=True)\n",
    "df.reset_index(drop=True,inplace=True)"
   ]
  },
  {
   "cell_type": "code",
   "execution_count": 25,
   "metadata": {},
   "outputs": [
    {
     "data": {
      "text/html": [
       "<div>\n",
       "<style scoped>\n",
       "    .dataframe tbody tr th:only-of-type {\n",
       "        vertical-align: middle;\n",
       "    }\n",
       "\n",
       "    .dataframe tbody tr th {\n",
       "        vertical-align: top;\n",
       "    }\n",
       "\n",
       "    .dataframe thead th {\n",
       "        text-align: right;\n",
       "    }\n",
       "</style>\n",
       "<table border=\"1\" class=\"dataframe\">\n",
       "  <thead>\n",
       "    <tr style=\"text-align: right;\">\n",
       "      <th></th>\n",
       "      <th>taxi_id_</th>\n",
       "      <th>w_</th>\n",
       "      <th>v_total_tips_count_1</th>\n",
       "      <th>v_mean_tips_count_1</th>\n",
       "      <th>v_total_tips_count_2</th>\n",
       "      <th>v_mean_tips_count_2</th>\n",
       "      <th>v_total_tips_count_3</th>\n",
       "      <th>v_mean_tips_count_3</th>\n",
       "      <th>v_total_tips_count_4</th>\n",
       "      <th>v_mean_tips_count_4</th>\n",
       "      <th>...</th>\n",
       "      <th>v_mean_trip_total_sum_4</th>\n",
       "      <th>v_pct_cc_1</th>\n",
       "      <th>v_pct_cc_2</th>\n",
       "      <th>v_pct_cc_3</th>\n",
       "      <th>v_pct_cc_4</th>\n",
       "      <th>v_mean_dias_activo_1</th>\n",
       "      <th>v_mean_dias_activo_2</th>\n",
       "      <th>v_mean_dias_activo_3</th>\n",
       "      <th>v_mean_dias_activo_4</th>\n",
       "      <th>y</th>\n",
       "    </tr>\n",
       "  </thead>\n",
       "  <tbody>\n",
       "    <tr>\n",
       "      <th>0</th>\n",
       "      <td>96.0</td>\n",
       "      <td>4</td>\n",
       "      <td>161</td>\n",
       "      <td>161.0</td>\n",
       "      <td>289.0</td>\n",
       "      <td>144.5</td>\n",
       "      <td>442.0</td>\n",
       "      <td>147.333333</td>\n",
       "      <td>596.0</td>\n",
       "      <td>149.00</td>\n",
       "      <td>...</td>\n",
       "      <td>1867.2225</td>\n",
       "      <td>0.648891</td>\n",
       "      <td>0.638204</td>\n",
       "      <td>0.620989</td>\n",
       "      <td>0.599740</td>\n",
       "      <td>7.0</td>\n",
       "      <td>7.0</td>\n",
       "      <td>7.0</td>\n",
       "      <td>7.0</td>\n",
       "      <td>0</td>\n",
       "    </tr>\n",
       "    <tr>\n",
       "      <th>1</th>\n",
       "      <td>96.0</td>\n",
       "      <td>5</td>\n",
       "      <td>158</td>\n",
       "      <td>158.0</td>\n",
       "      <td>319.0</td>\n",
       "      <td>159.5</td>\n",
       "      <td>447.0</td>\n",
       "      <td>149.000000</td>\n",
       "      <td>600.0</td>\n",
       "      <td>150.00</td>\n",
       "      <td>...</td>\n",
       "      <td>1841.1525</td>\n",
       "      <td>0.544212</td>\n",
       "      <td>0.601349</td>\n",
       "      <td>0.607457</td>\n",
       "      <td>0.602491</td>\n",
       "      <td>7.0</td>\n",
       "      <td>7.0</td>\n",
       "      <td>7.0</td>\n",
       "      <td>7.0</td>\n",
       "      <td>0</td>\n",
       "    </tr>\n",
       "    <tr>\n",
       "      <th>2</th>\n",
       "      <td>96.0</td>\n",
       "      <td>6</td>\n",
       "      <td>176</td>\n",
       "      <td>176.0</td>\n",
       "      <td>334.0</td>\n",
       "      <td>167.0</td>\n",
       "      <td>495.0</td>\n",
       "      <td>165.000000</td>\n",
       "      <td>623.0</td>\n",
       "      <td>155.75</td>\n",
       "      <td>...</td>\n",
       "      <td>1892.5800</td>\n",
       "      <td>0.548710</td>\n",
       "      <td>0.546674</td>\n",
       "      <td>0.582686</td>\n",
       "      <td>0.590803</td>\n",
       "      <td>7.0</td>\n",
       "      <td>7.0</td>\n",
       "      <td>7.0</td>\n",
       "      <td>7.0</td>\n",
       "      <td>0</td>\n",
       "    </tr>\n",
       "    <tr>\n",
       "      <th>3</th>\n",
       "      <td>96.0</td>\n",
       "      <td>7</td>\n",
       "      <td>151</td>\n",
       "      <td>151.0</td>\n",
       "      <td>327.0</td>\n",
       "      <td>163.5</td>\n",
       "      <td>485.0</td>\n",
       "      <td>161.666667</td>\n",
       "      <td>646.0</td>\n",
       "      <td>161.50</td>\n",
       "      <td>...</td>\n",
       "      <td>1986.9775</td>\n",
       "      <td>0.563436</td>\n",
       "      <td>0.555615</td>\n",
       "      <td>0.552136</td>\n",
       "      <td>0.578097</td>\n",
       "      <td>7.0</td>\n",
       "      <td>7.0</td>\n",
       "      <td>7.0</td>\n",
       "      <td>7.0</td>\n",
       "      <td>0</td>\n",
       "    </tr>\n",
       "    <tr>\n",
       "      <th>4</th>\n",
       "      <td>96.0</td>\n",
       "      <td>8</td>\n",
       "      <td>163</td>\n",
       "      <td>163.0</td>\n",
       "      <td>314.0</td>\n",
       "      <td>157.0</td>\n",
       "      <td>490.0</td>\n",
       "      <td>163.333333</td>\n",
       "      <td>648.0</td>\n",
       "      <td>162.00</td>\n",
       "      <td>...</td>\n",
       "      <td>1982.9625</td>\n",
       "      <td>0.591537</td>\n",
       "      <td>0.578262</td>\n",
       "      <td>0.567962</td>\n",
       "      <td>0.562649</td>\n",
       "      <td>7.0</td>\n",
       "      <td>7.0</td>\n",
       "      <td>7.0</td>\n",
       "      <td>7.0</td>\n",
       "      <td>0</td>\n",
       "    </tr>\n",
       "  </tbody>\n",
       "</table>\n",
       "<p>5 rows × 51 columns</p>\n",
       "</div>"
      ],
      "text/plain": [
       "   taxi_id_  w_  v_total_tips_count_1  v_mean_tips_count_1  \\\n",
       "0      96.0   4                   161                161.0   \n",
       "1      96.0   5                   158                158.0   \n",
       "2      96.0   6                   176                176.0   \n",
       "3      96.0   7                   151                151.0   \n",
       "4      96.0   8                   163                163.0   \n",
       "\n",
       "   v_total_tips_count_2  v_mean_tips_count_2  v_total_tips_count_3  \\\n",
       "0                 289.0                144.5                 442.0   \n",
       "1                 319.0                159.5                 447.0   \n",
       "2                 334.0                167.0                 495.0   \n",
       "3                 327.0                163.5                 485.0   \n",
       "4                 314.0                157.0                 490.0   \n",
       "\n",
       "   v_mean_tips_count_3  v_total_tips_count_4  v_mean_tips_count_4  ...  \\\n",
       "0           147.333333                 596.0               149.00  ...   \n",
       "1           149.000000                 600.0               150.00  ...   \n",
       "2           165.000000                 623.0               155.75  ...   \n",
       "3           161.666667                 646.0               161.50  ...   \n",
       "4           163.333333                 648.0               162.00  ...   \n",
       "\n",
       "   v_mean_trip_total_sum_4  v_pct_cc_1  v_pct_cc_2  v_pct_cc_3  v_pct_cc_4  \\\n",
       "0                1867.2225    0.648891    0.638204    0.620989    0.599740   \n",
       "1                1841.1525    0.544212    0.601349    0.607457    0.602491   \n",
       "2                1892.5800    0.548710    0.546674    0.582686    0.590803   \n",
       "3                1986.9775    0.563436    0.555615    0.552136    0.578097   \n",
       "4                1982.9625    0.591537    0.578262    0.567962    0.562649   \n",
       "\n",
       "   v_mean_dias_activo_1  v_mean_dias_activo_2  v_mean_dias_activo_3  \\\n",
       "0                   7.0                   7.0                   7.0   \n",
       "1                   7.0                   7.0                   7.0   \n",
       "2                   7.0                   7.0                   7.0   \n",
       "3                   7.0                   7.0                   7.0   \n",
       "4                   7.0                   7.0                   7.0   \n",
       "\n",
       "   v_mean_dias_activo_4  y  \n",
       "0                   7.0  0  \n",
       "1                   7.0  0  \n",
       "2                   7.0  0  \n",
       "3                   7.0  0  \n",
       "4                   7.0  0  \n",
       "\n",
       "[5 rows x 51 columns]"
      ]
     },
     "execution_count": 25,
     "metadata": {},
     "output_type": "execute_result"
    }
   ],
   "source": [
    "df.head()"
   ]
  },
  {
   "cell_type": "code",
   "execution_count": 26,
   "metadata": {},
   "outputs": [],
   "source": [
    "from sklearn.preprocessing import StandardScaler\n",
    "from sklearn.decomposition import PCA"
   ]
  },
  {
   "cell_type": "code",
   "execution_count": 27,
   "metadata": {},
   "outputs": [],
   "source": [
    "var = [v for v in df.columns if v[:2]=='v_']"
   ]
  },
  {
   "cell_type": "code",
   "execution_count": 28,
   "metadata": {},
   "outputs": [],
   "source": [
    "X = df[var].copy()"
   ]
  },
  {
   "cell_type": "code",
   "execution_count": 29,
   "metadata": {},
   "outputs": [],
   "source": [
    "sc = StandardScaler()"
   ]
  },
  {
   "cell_type": "code",
   "execution_count": 30,
   "metadata": {},
   "outputs": [
    {
     "data": {
      "text/plain": [
       "StandardScaler(copy=True, with_mean=True, with_std=True)"
      ]
     },
     "execution_count": 30,
     "metadata": {},
     "output_type": "execute_result"
    }
   ],
   "source": [
    "sc.fit(X)"
   ]
  },
  {
   "cell_type": "code",
   "execution_count": 31,
   "metadata": {},
   "outputs": [
    {
     "data": {
      "text/plain": [
       "(2987, 48)"
      ]
     },
     "execution_count": 31,
     "metadata": {},
     "output_type": "execute_result"
    }
   ],
   "source": [
    "Xs.shape"
   ]
  },
  {
   "cell_type": "code",
   "execution_count": 34,
   "metadata": {},
   "outputs": [],
   "source": [
    "Xs = pd.DataFrame(sc.transform(X),columns=var)"
   ]
  },
  {
   "cell_type": "code",
   "execution_count": 63,
   "metadata": {},
   "outputs": [],
   "source": [
    "pca = PCA(n_components=3)"
   ]
  },
  {
   "cell_type": "code",
   "execution_count": 64,
   "metadata": {},
   "outputs": [
    {
     "data": {
      "text/plain": [
       "PCA(copy=True, iterated_power='auto', n_components=3, random_state=None,\n",
       "    svd_solver='auto', tol=0.0, whiten=False)"
      ]
     },
     "execution_count": 64,
     "metadata": {},
     "output_type": "execute_result"
    }
   ],
   "source": [
    "pca.fit(Xs)"
   ]
  },
  {
   "cell_type": "code",
   "execution_count": 65,
   "metadata": {},
   "outputs": [
    {
     "data": {
      "text/plain": [
       "array([30.75372815,  6.2243995 ,  4.93666199])"
      ]
     },
     "execution_count": 65,
     "metadata": {},
     "output_type": "execute_result"
    }
   ],
   "source": [
    "pca.explained_variance_"
   ]
  },
  {
   "cell_type": "code",
   "execution_count": 66,
   "metadata": {},
   "outputs": [
    {
     "data": {
      "text/plain": [
       "array([0.64048803, 0.77011958, 0.87293225])"
      ]
     },
     "execution_count": 66,
     "metadata": {},
     "output_type": "execute_result"
    }
   ],
   "source": [
    "pca.explained_variance_ratio_.cumsum()"
   ]
  },
  {
   "cell_type": "code",
   "execution_count": 67,
   "metadata": {},
   "outputs": [],
   "source": [
    "Xp = pd.DataFrame(pca.transform(Xs),columns=['p1','p2','p3'])"
   ]
  },
  {
   "cell_type": "code",
   "execution_count": 68,
   "metadata": {},
   "outputs": [
    {
     "data": {
      "text/html": [
       "<div>\n",
       "<style scoped>\n",
       "    .dataframe tbody tr th:only-of-type {\n",
       "        vertical-align: middle;\n",
       "    }\n",
       "\n",
       "    .dataframe tbody tr th {\n",
       "        vertical-align: top;\n",
       "    }\n",
       "\n",
       "    .dataframe thead th {\n",
       "        text-align: right;\n",
       "    }\n",
       "</style>\n",
       "<table border=\"1\" class=\"dataframe\">\n",
       "  <thead>\n",
       "    <tr style=\"text-align: right;\">\n",
       "      <th></th>\n",
       "      <th>p1</th>\n",
       "      <th>p2</th>\n",
       "      <th>p3</th>\n",
       "    </tr>\n",
       "  </thead>\n",
       "  <tbody>\n",
       "    <tr>\n",
       "      <th>p1</th>\n",
       "      <td>1.000000e+00</td>\n",
       "      <td>2.279842e-14</td>\n",
       "      <td>-3.493044e-16</td>\n",
       "    </tr>\n",
       "    <tr>\n",
       "      <th>p2</th>\n",
       "      <td>2.279842e-14</td>\n",
       "      <td>1.000000e+00</td>\n",
       "      <td>-5.887686e-17</td>\n",
       "    </tr>\n",
       "    <tr>\n",
       "      <th>p3</th>\n",
       "      <td>-3.493044e-16</td>\n",
       "      <td>-5.887686e-17</td>\n",
       "      <td>1.000000e+00</td>\n",
       "    </tr>\n",
       "  </tbody>\n",
       "</table>\n",
       "</div>"
      ],
      "text/plain": [
       "              p1            p2            p3\n",
       "p1  1.000000e+00  2.279842e-14 -3.493044e-16\n",
       "p2  2.279842e-14  1.000000e+00 -5.887686e-17\n",
       "p3 -3.493044e-16 -5.887686e-17  1.000000e+00"
      ]
     },
     "execution_count": 68,
     "metadata": {},
     "output_type": "execute_result"
    }
   ],
   "source": [
    "Xp.corr()"
   ]
  },
  {
   "cell_type": "code",
   "execution_count": 69,
   "metadata": {},
   "outputs": [],
   "source": [
    "Xp['y'] = df['y']"
   ]
  },
  {
   "cell_type": "code",
   "execution_count": 70,
   "metadata": {},
   "outputs": [
    {
     "data": {
      "text/plain": [
       "<seaborn.axisgrid.FacetGrid at 0x7f46152f3048>"
      ]
     },
     "execution_count": 70,
     "metadata": {},
     "output_type": "execute_result"
    },
    {
     "data": {
      "image/png": "[encoded data removed]",
      "text/plain": [
       "<Figure size 402.375x360 with 1 Axes>"
      ]
     },
     "metadata": {
      "needs_background": "light"
     },
     "output_type": "display_data"
    }
   ],
   "source": [
    "sns.lmplot(data=Xp.sample(frac=0.05),x='p1',y='p2',hue='y',fit_reg=False)"
   ]
  },
  {
   "cell_type": "code",
   "execution_count": 49,
   "metadata": {},
   "outputs": [],
   "source": [
    "from sklearn.manifold import MDS"
   ]
  },
  {
   "cell_type": "code",
   "execution_count": 50,
   "metadata": {},
   "outputs": [],
   "source": [
    "mds = MDS(n_components=2,n_jobs=-1)"
   ]
  },
  {
   "cell_type": "code",
   "execution_count": 51,
   "metadata": {},
   "outputs": [],
   "source": [
    "Xm = pd.DataFrame(mds.fit_transform(X),columns=['d1','d2'])"
   ]
  },
  {
   "cell_type": "code",
   "execution_count": 52,
   "metadata": {},
   "outputs": [
    {
     "data": {
      "text/plain": [
       "(2985, 2)"
      ]
     },
     "execution_count": 52,
     "metadata": {},
     "output_type": "execute_result"
    }
   ],
   "source": [
    "Xm.shape"
   ]
  },
  {
   "cell_type": "code",
   "execution_count": 53,
   "metadata": {},
   "outputs": [],
   "source": [
    "Xm['y'] = df['y']"
   ]
  },
  {
   "cell_type": "code",
   "execution_count": 56,
   "metadata": {},
   "outputs": [
    {
     "data": {
      "text/plain": [
       "<seaborn.axisgrid.FacetGrid at 0x7f46150dc438>"
      ]
     },
     "execution_count": 56,
     "metadata": {},
     "output_type": "execute_result"
    },
    {
     "data": {
      "image/png": "[encoded data removed]",
      "text/plain": [
       "<Figure size 402.375x360 with 1 Axes>"
      ]
     },
     "metadata": {
      "needs_background": "light"
     },
     "output_type": "display_data"
    }
   ],
   "source": [
    "sns.lmplot(data=Xm.sample(frac=0.05),x='d1',y='d2',hue='y',fit_reg=False)"
   ]
  },
  {
   "cell_type": "code",
   "execution_count": 57,
   "metadata": {},
   "outputs": [
    {
     "data": {
      "text/html": [
       "<div>\n",
       "<style scoped>\n",
       "    .dataframe tbody tr th:only-of-type {\n",
       "        vertical-align: middle;\n",
       "    }\n",
       "\n",
       "    .dataframe tbody tr th {\n",
       "        vertical-align: top;\n",
       "    }\n",
       "\n",
       "    .dataframe thead th {\n",
       "        text-align: right;\n",
       "    }\n",
       "</style>\n",
       "<table border=\"1\" class=\"dataframe\">\n",
       "  <thead>\n",
       "    <tr style=\"text-align: right;\">\n",
       "      <th></th>\n",
       "      <th>d1</th>\n",
       "      <th>d2</th>\n",
       "      <th>y</th>\n",
       "    </tr>\n",
       "  </thead>\n",
       "  <tbody>\n",
       "    <tr>\n",
       "      <th>d1</th>\n",
       "      <td>1.000000</td>\n",
       "      <td>0.952851</td>\n",
       "      <td>0.230415</td>\n",
       "    </tr>\n",
       "    <tr>\n",
       "      <th>d2</th>\n",
       "      <td>0.952851</td>\n",
       "      <td>1.000000</td>\n",
       "      <td>0.227187</td>\n",
       "    </tr>\n",
       "    <tr>\n",
       "      <th>y</th>\n",
       "      <td>0.230415</td>\n",
       "      <td>0.227187</td>\n",
       "      <td>1.000000</td>\n",
       "    </tr>\n",
       "  </tbody>\n",
       "</table>\n",
       "</div>"
      ],
      "text/plain": [
       "          d1        d2         y\n",
       "d1  1.000000  0.952851  0.230415\n",
       "d2  0.952851  1.000000  0.227187\n",
       "y   0.230415  0.227187  1.000000"
      ]
     },
     "execution_count": 57,
     "metadata": {},
     "output_type": "execute_result"
    }
   ],
   "source": [
    "Xm.corr()"
   ]
  },
  {
   "cell_type": "code",
   "execution_count": 71,
   "metadata": {},
   "outputs": [],
   "source": [
    "from sklearn.linear_model import LogisticRegression\n",
    "from sklearn.model_selection import train_test_split\n",
    "from sklearn.metrics import roc_auc_score,accuracy_score"
   ]
  },
  {
   "cell_type": "code",
   "execution_count": 75,
   "metadata": {},
   "outputs": [
    {
     "name": "stdout",
     "output_type": "stream",
     "text": [
      "0.9192842912566096\n",
      "0.9129047072330654\n",
      "0.9684059358544759\n",
      "0.9720982142857143\n"
     ]
    },
    {
     "name": "stderr",
     "output_type": "stream",
     "text": [
      "/home/jose/Documentos/unam/repos/amv_2020_2/lib64/python3.6/site-packages/sklearn/utils/validation.py:760: DataConversionWarning: A column-vector y was passed when a 1d array was expected. Please change the shape of y to (n_samples, ), for example using ravel().\n",
      "  y = column_or_1d(y, warn=True)\n"
     ]
    }
   ],
   "source": [
    "modelo = LogisticRegression()\n",
    "\n",
    "Xt,Xv,yt,yv = train_test_split(Xp[['p1','p2','p3']],Xp[['y']],train_size=0.7)\n",
    "\n",
    "modelo.fit(Xt,yt)\n",
    "\n",
    "print(roc_auc_score(y_true=yt,y_score=modelo.predict_proba(Xt)[:,1]))\n",
    "print(roc_auc_score(y_true=yv,y_score=modelo.predict_proba(Xv)[:,1]))\n",
    "\n",
    "print(accuracy_score(y_true=yt,y_pred=modelo.predict(Xt)))\n",
    "print(accuracy_score(y_true=yv,y_pred=modelo.predict(Xv)))"
   ]
  },
  {
   "cell_type": "code",
   "execution_count": 62,
   "metadata": {},
   "outputs": [
    {
     "name": "stdout",
     "output_type": "stream",
     "text": [
      "0.8771228187359105\n",
      "0.8266420717592593\n",
      "0.5500239348970799\n",
      "0.5535714285714286\n"
     ]
    },
    {
     "name": "stderr",
     "output_type": "stream",
     "text": [
      "/home/jose/Documentos/unam/repos/amv_2020_2/lib64/python3.6/site-packages/sklearn/utils/validation.py:760: DataConversionWarning: A column-vector y was passed when a 1d array was expected. Please change the shape of y to (n_samples, ), for example using ravel().\n",
      "  y = column_or_1d(y, warn=True)\n"
     ]
    }
   ],
   "source": [
    "modelo = LogisticRegression()\n",
    "\n",
    "Xt,Xv,yt,yv = train_test_split(Xm[['d1','d2']],Xp[['y']],train_size=0.7)\n",
    "\n",
    "modelo.fit(Xt,yt)\n",
    "\n",
    "print(roc_auc_score(y_true=yt,y_score=modelo.predict_proba(Xt)[:,1]))\n",
    "print(roc_auc_score(y_true=yv,y_score=modelo.predict_proba(Xv)[:,1]))\n",
    "\n",
    "print(accuracy_score(y_true=yt,y_pred=modelo.predict(Xt)))\n",
    "print(accuracy_score(y_true=yv,y_pred=modelo.predict(Xv)))"
   ]
  },
  {
   "cell_type": "code",
   "execution_count": null,
   "metadata": {},
   "outputs": [],
   "source": []
  }
 ],
 "metadata": {
  "kernelspec": {
   "display_name": "Python 3",
   "language": "python",
   "name": "python3"
  },
  "language_info": {
   "codemirror_mode": {
    "name": "ipython",
    "version": 3
   },
   "file_extension": ".py",
   "mimetype": "text/x-python",
   "name": "python",
   "nbconvert_exporter": "python",
   "pygments_lexer": "ipython3",
   "version": "3.6.8"
  }
 },
 "nbformat": 4,
 "nbformat_minor": 4
}
