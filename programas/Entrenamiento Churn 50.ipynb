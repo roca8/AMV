{
 "cells": [
  {
   "cell_type": "code",
   "execution_count": 125,
   "metadata": {},
   "outputs": [],
   "source": [
    "import pandas as pd\n",
    "import seaborn as sns\n",
    "import matplotlib.pyplot as plt\n",
    "%matplotlib inline"
   ]
  },
  {
   "cell_type": "code",
   "execution_count": 126,
   "metadata": {},
   "outputs": [],
   "source": [
    "df = pd.read_pickle('churn_final.pickle')"
   ]
  },
  {
   "cell_type": "code",
   "execution_count": 127,
   "metadata": {},
   "outputs": [
    {
     "data": {
      "text/html": [
       "<div>\n",
       "<style scoped>\n",
       "    .dataframe tbody tr th:only-of-type {\n",
       "        vertical-align: middle;\n",
       "    }\n",
       "\n",
       "    .dataframe tbody tr th {\n",
       "        vertical-align: top;\n",
       "    }\n",
       "\n",
       "    .dataframe thead th {\n",
       "        text-align: right;\n",
       "    }\n",
       "</style>\n",
       "<table border=\"1\" class=\"dataframe\">\n",
       "  <thead>\n",
       "    <tr style=\"text-align: right;\">\n",
       "      <th></th>\n",
       "      <th>taxi_id_</th>\n",
       "      <th>w_</th>\n",
       "      <th>v_total_tips_count_1</th>\n",
       "      <th>v_mean_tips_count_1</th>\n",
       "      <th>v_total_tips_count_2</th>\n",
       "      <th>v_mean_tips_count_2</th>\n",
       "      <th>v_total_tips_count_3</th>\n",
       "      <th>v_mean_tips_count_3</th>\n",
       "      <th>v_total_tips_count_4</th>\n",
       "      <th>v_mean_tips_count_4</th>\n",
       "      <th>...</th>\n",
       "      <th>v_mean_trip_total_sum_4</th>\n",
       "      <th>v_pct_cc_1</th>\n",
       "      <th>v_pct_cc_2</th>\n",
       "      <th>v_pct_cc_3</th>\n",
       "      <th>v_pct_cc_4</th>\n",
       "      <th>v_mean_dias_activo_1</th>\n",
       "      <th>v_mean_dias_activo_2</th>\n",
       "      <th>v_mean_dias_activo_3</th>\n",
       "      <th>v_mean_dias_activo_4</th>\n",
       "      <th>y</th>\n",
       "    </tr>\n",
       "  </thead>\n",
       "  <tbody>\n",
       "    <tr>\n",
       "      <th>0</th>\n",
       "      <td>96.0</td>\n",
       "      <td>4</td>\n",
       "      <td>161</td>\n",
       "      <td>161.0</td>\n",
       "      <td>289.0</td>\n",
       "      <td>144.5</td>\n",
       "      <td>442.0</td>\n",
       "      <td>147.333333</td>\n",
       "      <td>596.0</td>\n",
       "      <td>149.00</td>\n",
       "      <td>...</td>\n",
       "      <td>1867.2225</td>\n",
       "      <td>0.648891</td>\n",
       "      <td>0.638204</td>\n",
       "      <td>0.620989</td>\n",
       "      <td>0.599740</td>\n",
       "      <td>7.0</td>\n",
       "      <td>7.0</td>\n",
       "      <td>7.0</td>\n",
       "      <td>7.0</td>\n",
       "      <td>0</td>\n",
       "    </tr>\n",
       "    <tr>\n",
       "      <th>1</th>\n",
       "      <td>96.0</td>\n",
       "      <td>5</td>\n",
       "      <td>158</td>\n",
       "      <td>158.0</td>\n",
       "      <td>319.0</td>\n",
       "      <td>159.5</td>\n",
       "      <td>447.0</td>\n",
       "      <td>149.000000</td>\n",
       "      <td>600.0</td>\n",
       "      <td>150.00</td>\n",
       "      <td>...</td>\n",
       "      <td>1841.1525</td>\n",
       "      <td>0.544212</td>\n",
       "      <td>0.601349</td>\n",
       "      <td>0.607457</td>\n",
       "      <td>0.602491</td>\n",
       "      <td>7.0</td>\n",
       "      <td>7.0</td>\n",
       "      <td>7.0</td>\n",
       "      <td>7.0</td>\n",
       "      <td>0</td>\n",
       "    </tr>\n",
       "    <tr>\n",
       "      <th>2</th>\n",
       "      <td>96.0</td>\n",
       "      <td>6</td>\n",
       "      <td>176</td>\n",
       "      <td>176.0</td>\n",
       "      <td>334.0</td>\n",
       "      <td>167.0</td>\n",
       "      <td>495.0</td>\n",
       "      <td>165.000000</td>\n",
       "      <td>623.0</td>\n",
       "      <td>155.75</td>\n",
       "      <td>...</td>\n",
       "      <td>1892.5800</td>\n",
       "      <td>0.548710</td>\n",
       "      <td>0.546674</td>\n",
       "      <td>0.582686</td>\n",
       "      <td>0.590803</td>\n",
       "      <td>7.0</td>\n",
       "      <td>7.0</td>\n",
       "      <td>7.0</td>\n",
       "      <td>7.0</td>\n",
       "      <td>0</td>\n",
       "    </tr>\n",
       "    <tr>\n",
       "      <th>3</th>\n",
       "      <td>96.0</td>\n",
       "      <td>7</td>\n",
       "      <td>151</td>\n",
       "      <td>151.0</td>\n",
       "      <td>327.0</td>\n",
       "      <td>163.5</td>\n",
       "      <td>485.0</td>\n",
       "      <td>161.666667</td>\n",
       "      <td>646.0</td>\n",
       "      <td>161.50</td>\n",
       "      <td>...</td>\n",
       "      <td>1986.9775</td>\n",
       "      <td>0.563436</td>\n",
       "      <td>0.555615</td>\n",
       "      <td>0.552136</td>\n",
       "      <td>0.578097</td>\n",
       "      <td>7.0</td>\n",
       "      <td>7.0</td>\n",
       "      <td>7.0</td>\n",
       "      <td>7.0</td>\n",
       "      <td>0</td>\n",
       "    </tr>\n",
       "    <tr>\n",
       "      <th>4</th>\n",
       "      <td>96.0</td>\n",
       "      <td>8</td>\n",
       "      <td>163</td>\n",
       "      <td>163.0</td>\n",
       "      <td>314.0</td>\n",
       "      <td>157.0</td>\n",
       "      <td>490.0</td>\n",
       "      <td>163.333333</td>\n",
       "      <td>648.0</td>\n",
       "      <td>162.00</td>\n",
       "      <td>...</td>\n",
       "      <td>1982.9625</td>\n",
       "      <td>0.591537</td>\n",
       "      <td>0.578262</td>\n",
       "      <td>0.567962</td>\n",
       "      <td>0.562649</td>\n",
       "      <td>7.0</td>\n",
       "      <td>7.0</td>\n",
       "      <td>7.0</td>\n",
       "      <td>7.0</td>\n",
       "      <td>0</td>\n",
       "    </tr>\n",
       "  </tbody>\n",
       "</table>\n",
       "<p>5 rows × 51 columns</p>\n",
       "</div>"
      ],
      "text/plain": [
       "   taxi_id_  w_  v_total_tips_count_1  v_mean_tips_count_1  \\\n",
       "0      96.0   4                   161                161.0   \n",
       "1      96.0   5                   158                158.0   \n",
       "2      96.0   6                   176                176.0   \n",
       "3      96.0   7                   151                151.0   \n",
       "4      96.0   8                   163                163.0   \n",
       "\n",
       "   v_total_tips_count_2  v_mean_tips_count_2  v_total_tips_count_3  \\\n",
       "0                 289.0                144.5                 442.0   \n",
       "1                 319.0                159.5                 447.0   \n",
       "2                 334.0                167.0                 495.0   \n",
       "3                 327.0                163.5                 485.0   \n",
       "4                 314.0                157.0                 490.0   \n",
       "\n",
       "   v_mean_tips_count_3  v_total_tips_count_4  v_mean_tips_count_4  ...  \\\n",
       "0           147.333333                 596.0               149.00  ...   \n",
       "1           149.000000                 600.0               150.00  ...   \n",
       "2           165.000000                 623.0               155.75  ...   \n",
       "3           161.666667                 646.0               161.50  ...   \n",
       "4           163.333333                 648.0               162.00  ...   \n",
       "\n",
       "   v_mean_trip_total_sum_4  v_pct_cc_1  v_pct_cc_2  v_pct_cc_3  v_pct_cc_4  \\\n",
       "0                1867.2225    0.648891    0.638204    0.620989    0.599740   \n",
       "1                1841.1525    0.544212    0.601349    0.607457    0.602491   \n",
       "2                1892.5800    0.548710    0.546674    0.582686    0.590803   \n",
       "3                1986.9775    0.563436    0.555615    0.552136    0.578097   \n",
       "4                1982.9625    0.591537    0.578262    0.567962    0.562649   \n",
       "\n",
       "   v_mean_dias_activo_1  v_mean_dias_activo_2  v_mean_dias_activo_3  \\\n",
       "0                   7.0                   7.0                   7.0   \n",
       "1                   7.0                   7.0                   7.0   \n",
       "2                   7.0                   7.0                   7.0   \n",
       "3                   7.0                   7.0                   7.0   \n",
       "4                   7.0                   7.0                   7.0   \n",
       "\n",
       "   v_mean_dias_activo_4  y  \n",
       "0                   7.0  0  \n",
       "1                   7.0  0  \n",
       "2                   7.0  0  \n",
       "3                   7.0  0  \n",
       "4                   7.0  0  \n",
       "\n",
       "[5 rows x 51 columns]"
      ]
     },
     "execution_count": 127,
     "metadata": {},
     "output_type": "execute_result"
    }
   ],
   "source": [
    "df.head()"
   ]
  },
  {
   "cell_type": "code",
   "execution_count": 128,
   "metadata": {},
   "outputs": [],
   "source": [
    "var = [v for v in df.columns if v[:2]=='v_']"
   ]
  },
  {
   "cell_type": "code",
   "execution_count": 129,
   "metadata": {},
   "outputs": [],
   "source": [
    "df.dropna(inplace=True)"
   ]
  },
  {
   "cell_type": "code",
   "execution_count": 130,
   "metadata": {},
   "outputs": [],
   "source": [
    "df.reset_index(inplace=True,drop=True)"
   ]
  },
  {
   "cell_type": "code",
   "execution_count": 131,
   "metadata": {},
   "outputs": [
    {
     "data": {
      "text/plain": [
       "0    2894\n",
       "1      91\n",
       "Name: y, dtype: int64"
      ]
     },
     "execution_count": 131,
     "metadata": {},
     "output_type": "execute_result"
    }
   ],
   "source": [
    "df.y.value_counts()"
   ]
  },
  {
   "cell_type": "code",
   "execution_count": 132,
   "metadata": {},
   "outputs": [],
   "source": [
    "df = pd.concat([df.loc[df['y']==1],df.loc[df['y']==0].sample(n=91)],ignore_index=True).sample(frac=1)"
   ]
  },
  {
   "cell_type": "code",
   "execution_count": 133,
   "metadata": {},
   "outputs": [
    {
     "data": {
      "text/plain": [
       "1    0.5\n",
       "0    0.5\n",
       "Name: y, dtype: float64"
      ]
     },
     "execution_count": 133,
     "metadata": {},
     "output_type": "execute_result"
    }
   ],
   "source": [
    "df.y.value_counts(True)"
   ]
  },
  {
   "cell_type": "code",
   "execution_count": 134,
   "metadata": {},
   "outputs": [],
   "source": [
    "from sklearn.feature_selection import SelectKBest"
   ]
  },
  {
   "cell_type": "code",
   "execution_count": 135,
   "metadata": {},
   "outputs": [],
   "source": [
    "sk = SelectKBest(k=7)"
   ]
  },
  {
   "cell_type": "code",
   "execution_count": 136,
   "metadata": {},
   "outputs": [],
   "source": [
    "X = df[var]\n",
    "y = df[['y']]"
   ]
  },
  {
   "cell_type": "code",
   "execution_count": 137,
   "metadata": {},
   "outputs": [
    {
     "name": "stderr",
     "output_type": "stream",
     "text": [
      "/home/jose/Documentos/unam/repos/amv_2020_2/lib64/python3.6/site-packages/sklearn/utils/validation.py:760: DataConversionWarning: A column-vector y was passed when a 1d array was expected. Please change the shape of y to (n_samples, ), for example using ravel().\n",
      "  y = column_or_1d(y, warn=True)\n"
     ]
    },
    {
     "data": {
      "text/plain": [
       "SelectKBest(k=7, score_func=<function f_classif at 0x7f5fb5a8bb70>)"
      ]
     },
     "execution_count": 137,
     "metadata": {},
     "output_type": "execute_result"
    }
   ],
   "source": [
    "sk.fit(X,y)"
   ]
  },
  {
   "cell_type": "code",
   "execution_count": 138,
   "metadata": {},
   "outputs": [],
   "source": [
    "best_var = [a for a,b in zip(var,sk.get_support()) if b]"
   ]
  },
  {
   "cell_type": "code",
   "execution_count": 139,
   "metadata": {},
   "outputs": [
    {
     "data": {
      "text/plain": [
       "['v_mean_tips_sum_1',\n",
       " 'v_total_trip_total_sum_1',\n",
       " 'v_mean_trip_total_sum_1',\n",
       " 'v_mean_dias_activo_1',\n",
       " 'v_mean_dias_activo_2',\n",
       " 'v_mean_dias_activo_3',\n",
       " 'v_mean_dias_activo_4']"
      ]
     },
     "execution_count": 139,
     "metadata": {},
     "output_type": "execute_result"
    }
   ],
   "source": [
    "best_var"
   ]
  },
  {
   "cell_type": "code",
   "execution_count": 140,
   "metadata": {},
   "outputs": [
    {
     "data": {
      "text/plain": [
       "['v_mean_tips_sum_1',\n",
       " 'v_total_trip_total_sum_1',\n",
       " 'v_mean_trip_total_sum_1',\n",
       " 'v_mean_dias_activo_1',\n",
       " 'v_mean_dias_activo_2',\n",
       " 'v_mean_dias_activo_3',\n",
       " 'v_mean_dias_activo_4']"
      ]
     },
     "execution_count": 140,
     "metadata": {},
     "output_type": "execute_result"
    }
   ],
   "source": [
    "best_var"
   ]
  },
  {
   "cell_type": "code",
   "execution_count": 141,
   "metadata": {},
   "outputs": [
    {
     "data": {
      "text/html": [
       "<div>\n",
       "<style scoped>\n",
       "    .dataframe tbody tr th:only-of-type {\n",
       "        vertical-align: middle;\n",
       "    }\n",
       "\n",
       "    .dataframe tbody tr th {\n",
       "        vertical-align: top;\n",
       "    }\n",
       "\n",
       "    .dataframe thead th {\n",
       "        text-align: right;\n",
       "    }\n",
       "</style>\n",
       "<table border=\"1\" class=\"dataframe\">\n",
       "  <thead>\n",
       "    <tr style=\"text-align: right;\">\n",
       "      <th></th>\n",
       "      <th>v_mean_tips_sum_1</th>\n",
       "      <th>v_total_trip_total_sum_1</th>\n",
       "      <th>v_mean_trip_total_sum_1</th>\n",
       "      <th>v_mean_dias_activo_1</th>\n",
       "      <th>v_mean_dias_activo_2</th>\n",
       "      <th>v_mean_dias_activo_3</th>\n",
       "      <th>v_mean_dias_activo_4</th>\n",
       "    </tr>\n",
       "  </thead>\n",
       "  <tbody>\n",
       "    <tr>\n",
       "      <th>v_mean_tips_sum_1</th>\n",
       "      <td>1.000000</td>\n",
       "      <td>0.921355</td>\n",
       "      <td>0.921355</td>\n",
       "      <td>0.834819</td>\n",
       "      <td>0.796479</td>\n",
       "      <td>0.781900</td>\n",
       "      <td>0.767153</td>\n",
       "    </tr>\n",
       "    <tr>\n",
       "      <th>v_total_trip_total_sum_1</th>\n",
       "      <td>0.921355</td>\n",
       "      <td>1.000000</td>\n",
       "      <td>1.000000</td>\n",
       "      <td>0.864701</td>\n",
       "      <td>0.823853</td>\n",
       "      <td>0.806125</td>\n",
       "      <td>0.790488</td>\n",
       "    </tr>\n",
       "    <tr>\n",
       "      <th>v_mean_trip_total_sum_1</th>\n",
       "      <td>0.921355</td>\n",
       "      <td>1.000000</td>\n",
       "      <td>1.000000</td>\n",
       "      <td>0.864701</td>\n",
       "      <td>0.823853</td>\n",
       "      <td>0.806125</td>\n",
       "      <td>0.790488</td>\n",
       "    </tr>\n",
       "    <tr>\n",
       "      <th>v_mean_dias_activo_1</th>\n",
       "      <td>0.834819</td>\n",
       "      <td>0.864701</td>\n",
       "      <td>0.864701</td>\n",
       "      <td>1.000000</td>\n",
       "      <td>0.944843</td>\n",
       "      <td>0.918398</td>\n",
       "      <td>0.899446</td>\n",
       "    </tr>\n",
       "    <tr>\n",
       "      <th>v_mean_dias_activo_2</th>\n",
       "      <td>0.796479</td>\n",
       "      <td>0.823853</td>\n",
       "      <td>0.823853</td>\n",
       "      <td>0.944843</td>\n",
       "      <td>1.000000</td>\n",
       "      <td>0.989433</td>\n",
       "      <td>0.974868</td>\n",
       "    </tr>\n",
       "    <tr>\n",
       "      <th>v_mean_dias_activo_3</th>\n",
       "      <td>0.781900</td>\n",
       "      <td>0.806125</td>\n",
       "      <td>0.806125</td>\n",
       "      <td>0.918398</td>\n",
       "      <td>0.989433</td>\n",
       "      <td>1.000000</td>\n",
       "      <td>0.990963</td>\n",
       "    </tr>\n",
       "    <tr>\n",
       "      <th>v_mean_dias_activo_4</th>\n",
       "      <td>0.767153</td>\n",
       "      <td>0.790488</td>\n",
       "      <td>0.790488</td>\n",
       "      <td>0.899446</td>\n",
       "      <td>0.974868</td>\n",
       "      <td>0.990963</td>\n",
       "      <td>1.000000</td>\n",
       "    </tr>\n",
       "  </tbody>\n",
       "</table>\n",
       "</div>"
      ],
      "text/plain": [
       "                          v_mean_tips_sum_1  v_total_trip_total_sum_1  \\\n",
       "v_mean_tips_sum_1                  1.000000                  0.921355   \n",
       "v_total_trip_total_sum_1           0.921355                  1.000000   \n",
       "v_mean_trip_total_sum_1            0.921355                  1.000000   \n",
       "v_mean_dias_activo_1               0.834819                  0.864701   \n",
       "v_mean_dias_activo_2               0.796479                  0.823853   \n",
       "v_mean_dias_activo_3               0.781900                  0.806125   \n",
       "v_mean_dias_activo_4               0.767153                  0.790488   \n",
       "\n",
       "                          v_mean_trip_total_sum_1  v_mean_dias_activo_1  \\\n",
       "v_mean_tips_sum_1                        0.921355              0.834819   \n",
       "v_total_trip_total_sum_1                 1.000000              0.864701   \n",
       "v_mean_trip_total_sum_1                  1.000000              0.864701   \n",
       "v_mean_dias_activo_1                     0.864701              1.000000   \n",
       "v_mean_dias_activo_2                     0.823853              0.944843   \n",
       "v_mean_dias_activo_3                     0.806125              0.918398   \n",
       "v_mean_dias_activo_4                     0.790488              0.899446   \n",
       "\n",
       "                          v_mean_dias_activo_2  v_mean_dias_activo_3  \\\n",
       "v_mean_tips_sum_1                     0.796479              0.781900   \n",
       "v_total_trip_total_sum_1              0.823853              0.806125   \n",
       "v_mean_trip_total_sum_1               0.823853              0.806125   \n",
       "v_mean_dias_activo_1                  0.944843              0.918398   \n",
       "v_mean_dias_activo_2                  1.000000              0.989433   \n",
       "v_mean_dias_activo_3                  0.989433              1.000000   \n",
       "v_mean_dias_activo_4                  0.974868              0.990963   \n",
       "\n",
       "                          v_mean_dias_activo_4  \n",
       "v_mean_tips_sum_1                     0.767153  \n",
       "v_total_trip_total_sum_1              0.790488  \n",
       "v_mean_trip_total_sum_1               0.790488  \n",
       "v_mean_dias_activo_1                  0.899446  \n",
       "v_mean_dias_activo_2                  0.974868  \n",
       "v_mean_dias_activo_3                  0.990963  \n",
       "v_mean_dias_activo_4                  1.000000  "
      ]
     },
     "execution_count": 141,
     "metadata": {},
     "output_type": "execute_result"
    }
   ],
   "source": [
    "df[best_var].corr()"
   ]
  },
  {
   "cell_type": "code",
   "execution_count": 142,
   "metadata": {},
   "outputs": [],
   "source": [
    "from sklearn.linear_model import LogisticRegression\n",
    "from sklearn.model_selection import train_test_split\n",
    "from sklearn.metrics import roc_auc_score,accuracy_score"
   ]
  },
  {
   "cell_type": "code",
   "execution_count": 143,
   "metadata": {},
   "outputs": [],
   "source": [
    "modelo = LogisticRegression()"
   ]
  },
  {
   "cell_type": "code",
   "execution_count": 144,
   "metadata": {},
   "outputs": [],
   "source": [
    "Xt,Xv,yt,yv = train_test_split(X[best_var],y,train_size=0.7)"
   ]
  },
  {
   "cell_type": "code",
   "execution_count": 145,
   "metadata": {},
   "outputs": [
    {
     "name": "stderr",
     "output_type": "stream",
     "text": [
      "/home/jose/Documentos/unam/repos/amv_2020_2/lib64/python3.6/site-packages/sklearn/utils/validation.py:760: DataConversionWarning: A column-vector y was passed when a 1d array was expected. Please change the shape of y to (n_samples, ), for example using ravel().\n",
      "  y = column_or_1d(y, warn=True)\n"
     ]
    },
    {
     "data": {
      "text/plain": [
       "LogisticRegression(C=1.0, class_weight=None, dual=False, fit_intercept=True,\n",
       "                   intercept_scaling=1, l1_ratio=None, max_iter=100,\n",
       "                   multi_class='auto', n_jobs=None, penalty='l2',\n",
       "                   random_state=None, solver='lbfgs', tol=0.0001, verbose=0,\n",
       "                   warm_start=False)"
      ]
     },
     "execution_count": 145,
     "metadata": {},
     "output_type": "execute_result"
    }
   ],
   "source": [
    "modelo.fit(Xt,yt)"
   ]
  },
  {
   "cell_type": "code",
   "execution_count": 146,
   "metadata": {},
   "outputs": [
    {
     "name": "stdout",
     "output_type": "stream",
     "text": [
      "0.9466765873015872\n",
      "0.9537037037037037\n"
     ]
    }
   ],
   "source": [
    "print(roc_auc_score(y_true=yt,y_score=modelo.predict_proba(Xt)[:,1]))\n",
    "print(roc_auc_score(y_true=yv,y_score=modelo.predict_proba(Xv)[:,1]))"
   ]
  },
  {
   "cell_type": "code",
   "execution_count": 147,
   "metadata": {},
   "outputs": [
    {
     "name": "stdout",
     "output_type": "stream",
     "text": [
      "0.8582677165354331\n",
      "0.9272727272727272\n"
     ]
    }
   ],
   "source": [
    "print(accuracy_score(y_true=yt,y_pred=modelo.predict(Xt)))\n",
    "print(accuracy_score(y_true=yv,y_pred=modelo.predict(Xv)))"
   ]
  },
  {
   "cell_type": "code",
   "execution_count": 148,
   "metadata": {},
   "outputs": [],
   "source": [
    "df['p'] = modelo.predict_proba(X[best_var])[:,1]"
   ]
  },
  {
   "cell_type": "code",
   "execution_count": 149,
   "metadata": {},
   "outputs": [
    {
     "data": {
      "text/plain": [
       "<matplotlib.axes._subplots.AxesSubplot at 0x7f5faf65f518>"
      ]
     },
     "execution_count": 149,
     "metadata": {},
     "output_type": "execute_result"
    },
    {
     "data": {
      "image/png": "[encoded data removed]",
      "text/plain": [
       "<Figure size 432x288 with 1 Axes>"
      ]
     },
     "metadata": {
      "needs_background": "light"
     },
     "output_type": "display_data"
    }
   ],
   "source": [
    "df['p'].hist()"
   ]
  },
  {
   "cell_type": "code",
   "execution_count": 150,
   "metadata": {},
   "outputs": [
    {
     "data": {
      "text/plain": [
       "(array([[-3.90349651e-03,  4.05070188e-04,  4.05070188e-04,\n",
       "         -9.12215306e-01, -3.41156369e-02, -2.97959813e-01,\n",
       "          1.63462982e-01]]), array([4.38596831]))"
      ]
     },
     "execution_count": 150,
     "metadata": {},
     "output_type": "execute_result"
    }
   ],
   "source": [
    "modelo.coef_,modelo.intercept_"
   ]
  },
  {
   "cell_type": "code",
   "execution_count": 151,
   "metadata": {},
   "outputs": [],
   "source": [
    "import numpy as np"
   ]
  },
  {
   "cell_type": "code",
   "execution_count": 158,
   "metadata": {},
   "outputs": [],
   "source": [
    "df['r_proba'] = pd.cut(df['p'],bins=np.arange(0,1.2,0.2),include_lowest=True).astype(str)"
   ]
  },
  {
   "cell_type": "code",
   "execution_count": 159,
   "metadata": {},
   "outputs": [
    {
     "data": {
      "text/plain": [
       "(-0.001, 0.2]    0.456044\n",
       "(0.8, 1.0]       0.406593\n",
       "(0.4, 0.6]       0.054945\n",
       "(0.2, 0.4]       0.043956\n",
       "(0.6, 0.8]       0.038462\n",
       "Name: r_proba, dtype: float64"
      ]
     },
     "execution_count": 159,
     "metadata": {},
     "output_type": "execute_result"
    }
   ],
   "source": [
    "df.r_proba.value_counts(True)"
   ]
  },
  {
   "cell_type": "code",
   "execution_count": 160,
   "metadata": {},
   "outputs": [],
   "source": [
    "df[['r_proba','y','v_mean_trip_total_sum_4']].to_excel('churn50_cubo.xlsx',index=False)"
   ]
  },
  {
   "cell_type": "code",
   "execution_count": 161,
   "metadata": {},
   "outputs": [
    {
     "data": {
      "text/plain": [
       "['v_mean_tips_sum_1',\n",
       " 'v_total_trip_total_sum_1',\n",
       " 'v_mean_trip_total_sum_1',\n",
       " 'v_mean_dias_activo_1',\n",
       " 'v_mean_dias_activo_2',\n",
       " 'v_mean_dias_activo_3',\n",
       " 'v_mean_dias_activo_4']"
      ]
     },
     "execution_count": 161,
     "metadata": {},
     "output_type": "execute_result"
    }
   ],
   "source": [
    "best_var\n",
    "\n",
    "from sklearn.decomposition import PCA\n",
    "from sklearn.preprocessing import StandardScaler\n",
    "\n",
    "sc = StandardScaler()\n",
    "Xs = pd.DataFrame(sc.fit_transform(X[best_var]),columns=best_var)\n",
    "\n",
    "pca = PCA()\n",
    "\n",
    "pca.fit(Xs)\n",
    "\n",
    "pca.explained_variance_ratio_.cumsum()\n",
    "\n",
    "Xp = pd.DataFrame(pca.transform(Xs),columns=['p%d'%(i+1) for i in range(7)])\n",
    "\n",
    "Xp['y'] = y\n",
    "\n",
    "import seaborn as sns\n",
    "\n",
    "sns.lmplot(data=Xp,x='p1',y='p2',hue='y',fit_reg=False)\n",
    "\n"
   ]
  }
 ],
 "metadata": {
  "kernelspec": {
   "display_name": "Python 3",
   "language": "python",
   "name": "python3"
  },
  "language_info": {
   "codemirror_mode": {
    "name": "ipython",
    "version": 3
   },
   "file_extension": ".py",
   "mimetype": "text/x-python",
   "name": "python",
   "nbconvert_exporter": "python",
   "pygments_lexer": "ipython3",
   "version": "3.6.8"
  }
 },
 "nbformat": 4,
 "nbformat_minor": 4
}
