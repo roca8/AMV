{
 "cells": [
  {
   "cell_type": "code",
   "execution_count": 1,
   "metadata": {},
   "outputs": [],
   "source": [
    "import pandas as pd\n",
    "import seaborn as sns\n",
    "import matplotlib.pyplot as plt\n",
    "%matplotlib inline"
   ]
  },
  {
   "cell_type": "code",
   "execution_count": 2,
   "metadata": {},
   "outputs": [],
   "source": [
    "df = pd.read_pickle('churn_final.pickle')"
   ]
  },
  {
   "cell_type": "code",
   "execution_count": 3,
   "metadata": {},
   "outputs": [
    {
     "data": {
      "text/html": [
       "<div>\n",
       "<style scoped>\n",
       "    .dataframe tbody tr th:only-of-type {\n",
       "        vertical-align: middle;\n",
       "    }\n",
       "\n",
       "    .dataframe tbody tr th {\n",
       "        vertical-align: top;\n",
       "    }\n",
       "\n",
       "    .dataframe thead th {\n",
       "        text-align: right;\n",
       "    }\n",
       "</style>\n",
       "<table border=\"1\" class=\"dataframe\">\n",
       "  <thead>\n",
       "    <tr style=\"text-align: right;\">\n",
       "      <th></th>\n",
       "      <th>taxi_id_</th>\n",
       "      <th>w_</th>\n",
       "      <th>v_total_tips_count_1</th>\n",
       "      <th>v_mean_tips_count_1</th>\n",
       "      <th>v_total_tips_count_2</th>\n",
       "      <th>v_mean_tips_count_2</th>\n",
       "      <th>v_total_tips_count_3</th>\n",
       "      <th>v_mean_tips_count_3</th>\n",
       "      <th>v_total_tips_count_4</th>\n",
       "      <th>v_mean_tips_count_4</th>\n",
       "      <th>...</th>\n",
       "      <th>v_mean_trip_total_sum_4</th>\n",
       "      <th>v_pct_cc_1</th>\n",
       "      <th>v_pct_cc_2</th>\n",
       "      <th>v_pct_cc_3</th>\n",
       "      <th>v_pct_cc_4</th>\n",
       "      <th>v_mean_dias_activo_1</th>\n",
       "      <th>v_mean_dias_activo_2</th>\n",
       "      <th>v_mean_dias_activo_3</th>\n",
       "      <th>v_mean_dias_activo_4</th>\n",
       "      <th>y</th>\n",
       "    </tr>\n",
       "  </thead>\n",
       "  <tbody>\n",
       "    <tr>\n",
       "      <th>0</th>\n",
       "      <td>96.0</td>\n",
       "      <td>4</td>\n",
       "      <td>161</td>\n",
       "      <td>161.0</td>\n",
       "      <td>289.0</td>\n",
       "      <td>144.5</td>\n",
       "      <td>442.0</td>\n",
       "      <td>147.333333</td>\n",
       "      <td>596.0</td>\n",
       "      <td>149.00</td>\n",
       "      <td>...</td>\n",
       "      <td>1867.2225</td>\n",
       "      <td>0.648891</td>\n",
       "      <td>0.638204</td>\n",
       "      <td>0.620989</td>\n",
       "      <td>0.599740</td>\n",
       "      <td>7.0</td>\n",
       "      <td>7.0</td>\n",
       "      <td>7.0</td>\n",
       "      <td>7.0</td>\n",
       "      <td>0</td>\n",
       "    </tr>\n",
       "    <tr>\n",
       "      <th>1</th>\n",
       "      <td>96.0</td>\n",
       "      <td>5</td>\n",
       "      <td>158</td>\n",
       "      <td>158.0</td>\n",
       "      <td>319.0</td>\n",
       "      <td>159.5</td>\n",
       "      <td>447.0</td>\n",
       "      <td>149.000000</td>\n",
       "      <td>600.0</td>\n",
       "      <td>150.00</td>\n",
       "      <td>...</td>\n",
       "      <td>1841.1525</td>\n",
       "      <td>0.544212</td>\n",
       "      <td>0.601349</td>\n",
       "      <td>0.607457</td>\n",
       "      <td>0.602491</td>\n",
       "      <td>7.0</td>\n",
       "      <td>7.0</td>\n",
       "      <td>7.0</td>\n",
       "      <td>7.0</td>\n",
       "      <td>0</td>\n",
       "    </tr>\n",
       "    <tr>\n",
       "      <th>2</th>\n",
       "      <td>96.0</td>\n",
       "      <td>6</td>\n",
       "      <td>176</td>\n",
       "      <td>176.0</td>\n",
       "      <td>334.0</td>\n",
       "      <td>167.0</td>\n",
       "      <td>495.0</td>\n",
       "      <td>165.000000</td>\n",
       "      <td>623.0</td>\n",
       "      <td>155.75</td>\n",
       "      <td>...</td>\n",
       "      <td>1892.5800</td>\n",
       "      <td>0.548710</td>\n",
       "      <td>0.546674</td>\n",
       "      <td>0.582686</td>\n",
       "      <td>0.590803</td>\n",
       "      <td>7.0</td>\n",
       "      <td>7.0</td>\n",
       "      <td>7.0</td>\n",
       "      <td>7.0</td>\n",
       "      <td>0</td>\n",
       "    </tr>\n",
       "    <tr>\n",
       "      <th>3</th>\n",
       "      <td>96.0</td>\n",
       "      <td>7</td>\n",
       "      <td>151</td>\n",
       "      <td>151.0</td>\n",
       "      <td>327.0</td>\n",
       "      <td>163.5</td>\n",
       "      <td>485.0</td>\n",
       "      <td>161.666667</td>\n",
       "      <td>646.0</td>\n",
       "      <td>161.50</td>\n",
       "      <td>...</td>\n",
       "      <td>1986.9775</td>\n",
       "      <td>0.563436</td>\n",
       "      <td>0.555615</td>\n",
       "      <td>0.552136</td>\n",
       "      <td>0.578097</td>\n",
       "      <td>7.0</td>\n",
       "      <td>7.0</td>\n",
       "      <td>7.0</td>\n",
       "      <td>7.0</td>\n",
       "      <td>0</td>\n",
       "    </tr>\n",
       "    <tr>\n",
       "      <th>4</th>\n",
       "      <td>96.0</td>\n",
       "      <td>8</td>\n",
       "      <td>163</td>\n",
       "      <td>163.0</td>\n",
       "      <td>314.0</td>\n",
       "      <td>157.0</td>\n",
       "      <td>490.0</td>\n",
       "      <td>163.333333</td>\n",
       "      <td>648.0</td>\n",
       "      <td>162.00</td>\n",
       "      <td>...</td>\n",
       "      <td>1982.9625</td>\n",
       "      <td>0.591537</td>\n",
       "      <td>0.578262</td>\n",
       "      <td>0.567962</td>\n",
       "      <td>0.562649</td>\n",
       "      <td>7.0</td>\n",
       "      <td>7.0</td>\n",
       "      <td>7.0</td>\n",
       "      <td>7.0</td>\n",
       "      <td>0</td>\n",
       "    </tr>\n",
       "  </tbody>\n",
       "</table>\n",
       "<p>5 rows × 51 columns</p>\n",
       "</div>"
      ],
      "text/plain": [
       "   taxi_id_  w_  v_total_tips_count_1  v_mean_tips_count_1  \\\n",
       "0      96.0   4                   161                161.0   \n",
       "1      96.0   5                   158                158.0   \n",
       "2      96.0   6                   176                176.0   \n",
       "3      96.0   7                   151                151.0   \n",
       "4      96.0   8                   163                163.0   \n",
       "\n",
       "   v_total_tips_count_2  v_mean_tips_count_2  v_total_tips_count_3  \\\n",
       "0                 289.0                144.5                 442.0   \n",
       "1                 319.0                159.5                 447.0   \n",
       "2                 334.0                167.0                 495.0   \n",
       "3                 327.0                163.5                 485.0   \n",
       "4                 314.0                157.0                 490.0   \n",
       "\n",
       "   v_mean_tips_count_3  v_total_tips_count_4  v_mean_tips_count_4  ...  \\\n",
       "0           147.333333                 596.0               149.00  ...   \n",
       "1           149.000000                 600.0               150.00  ...   \n",
       "2           165.000000                 623.0               155.75  ...   \n",
       "3           161.666667                 646.0               161.50  ...   \n",
       "4           163.333333                 648.0               162.00  ...   \n",
       "\n",
       "   v_mean_trip_total_sum_4  v_pct_cc_1  v_pct_cc_2  v_pct_cc_3  v_pct_cc_4  \\\n",
       "0                1867.2225    0.648891    0.638204    0.620989    0.599740   \n",
       "1                1841.1525    0.544212    0.601349    0.607457    0.602491   \n",
       "2                1892.5800    0.548710    0.546674    0.582686    0.590803   \n",
       "3                1986.9775    0.563436    0.555615    0.552136    0.578097   \n",
       "4                1982.9625    0.591537    0.578262    0.567962    0.562649   \n",
       "\n",
       "   v_mean_dias_activo_1  v_mean_dias_activo_2  v_mean_dias_activo_3  \\\n",
       "0                   7.0                   7.0                   7.0   \n",
       "1                   7.0                   7.0                   7.0   \n",
       "2                   7.0                   7.0                   7.0   \n",
       "3                   7.0                   7.0                   7.0   \n",
       "4                   7.0                   7.0                   7.0   \n",
       "\n",
       "   v_mean_dias_activo_4  y  \n",
       "0                   7.0  0  \n",
       "1                   7.0  0  \n",
       "2                   7.0  0  \n",
       "3                   7.0  0  \n",
       "4                   7.0  0  \n",
       "\n",
       "[5 rows x 51 columns]"
      ]
     },
     "execution_count": 3,
     "metadata": {},
     "output_type": "execute_result"
    }
   ],
   "source": [
    "df.head()"
   ]
  },
  {
   "cell_type": "code",
   "execution_count": 4,
   "metadata": {},
   "outputs": [],
   "source": [
    "var = [v for v in df.columns if v[:2]=='v_']"
   ]
  },
  {
   "cell_type": "code",
   "execution_count": 5,
   "metadata": {},
   "outputs": [],
   "source": [
    "df.dropna(inplace=True)"
   ]
  },
  {
   "cell_type": "code",
   "execution_count": 6,
   "metadata": {},
   "outputs": [],
   "source": [
    "df.reset_index(inplace=True,drop=True)"
   ]
  },
  {
   "cell_type": "code",
   "execution_count": 7,
   "metadata": {},
   "outputs": [
    {
     "data": {
      "text/plain": [
       "0    0.969514\n",
       "1    0.030486\n",
       "Name: y, dtype: float64"
      ]
     },
     "execution_count": 7,
     "metadata": {},
     "output_type": "execute_result"
    }
   ],
   "source": [
    "df.y.value_counts(True)"
   ]
  },
  {
   "cell_type": "code",
   "execution_count": 8,
   "metadata": {},
   "outputs": [],
   "source": [
    "from sklearn.feature_selection import SelectKBest"
   ]
  },
  {
   "cell_type": "code",
   "execution_count": 9,
   "metadata": {},
   "outputs": [],
   "source": [
    "sk = SelectKBest(k=7)"
   ]
  },
  {
   "cell_type": "code",
   "execution_count": 10,
   "metadata": {},
   "outputs": [],
   "source": [
    "X = df[var]\n",
    "y = df[['y']]"
   ]
  },
  {
   "cell_type": "code",
   "execution_count": 11,
   "metadata": {},
   "outputs": [
    {
     "name": "stderr",
     "output_type": "stream",
     "text": [
      "/home/jose/Documentos/unam/repos/amv_2020_2/lib64/python3.6/site-packages/sklearn/utils/validation.py:760: DataConversionWarning: A column-vector y was passed when a 1d array was expected. Please change the shape of y to (n_samples, ), for example using ravel().\n",
      "  y = column_or_1d(y, warn=True)\n"
     ]
    },
    {
     "data": {
      "text/plain": [
       "SelectKBest(k=7, score_func=<function f_classif at 0x7fa3474ffea0>)"
      ]
     },
     "execution_count": 11,
     "metadata": {},
     "output_type": "execute_result"
    }
   ],
   "source": [
    "sk.fit(X,y)"
   ]
  },
  {
   "cell_type": "code",
   "execution_count": 12,
   "metadata": {},
   "outputs": [],
   "source": [
    "best_var = [a for a,b in zip(var,sk.get_support()) if b]"
   ]
  },
  {
   "cell_type": "code",
   "execution_count": 13,
   "metadata": {},
   "outputs": [
    {
     "data": {
      "text/plain": [
       "['v_total_trip_total_sum_3',\n",
       " 'v_mean_trip_total_sum_3',\n",
       " 'v_total_trip_total_sum_4',\n",
       " 'v_mean_dias_activo_1',\n",
       " 'v_mean_dias_activo_2',\n",
       " 'v_mean_dias_activo_3',\n",
       " 'v_mean_dias_activo_4']"
      ]
     },
     "execution_count": 13,
     "metadata": {},
     "output_type": "execute_result"
    }
   ],
   "source": [
    "best_var"
   ]
  },
  {
   "cell_type": "code",
   "execution_count": 14,
   "metadata": {},
   "outputs": [],
   "source": [
    "best_var.remove('v_mean_trip_total_sum_3')"
   ]
  },
  {
   "cell_type": "code",
   "execution_count": 15,
   "metadata": {},
   "outputs": [],
   "source": [
    "best_var.remove('v_total_trip_total_sum_3')"
   ]
  },
  {
   "cell_type": "code",
   "execution_count": 16,
   "metadata": {},
   "outputs": [
    {
     "data": {
      "text/plain": [
       "['v_total_trip_total_sum_4',\n",
       " 'v_mean_dias_activo_1',\n",
       " 'v_mean_dias_activo_2',\n",
       " 'v_mean_dias_activo_3',\n",
       " 'v_mean_dias_activo_4']"
      ]
     },
     "execution_count": 16,
     "metadata": {},
     "output_type": "execute_result"
    }
   ],
   "source": [
    "best_var"
   ]
  },
  {
   "cell_type": "code",
   "execution_count": 17,
   "metadata": {},
   "outputs": [
    {
     "data": {
      "text/html": [
       "<div>\n",
       "<style scoped>\n",
       "    .dataframe tbody tr th:only-of-type {\n",
       "        vertical-align: middle;\n",
       "    }\n",
       "\n",
       "    .dataframe tbody tr th {\n",
       "        vertical-align: top;\n",
       "    }\n",
       "\n",
       "    .dataframe thead th {\n",
       "        text-align: right;\n",
       "    }\n",
       "</style>\n",
       "<table border=\"1\" class=\"dataframe\">\n",
       "  <thead>\n",
       "    <tr style=\"text-align: right;\">\n",
       "      <th></th>\n",
       "      <th>v_total_trip_total_sum_4</th>\n",
       "      <th>v_mean_dias_activo_1</th>\n",
       "      <th>v_mean_dias_activo_2</th>\n",
       "      <th>v_mean_dias_activo_3</th>\n",
       "      <th>v_mean_dias_activo_4</th>\n",
       "    </tr>\n",
       "  </thead>\n",
       "  <tbody>\n",
       "    <tr>\n",
       "      <th>v_total_trip_total_sum_4</th>\n",
       "      <td>1.000000</td>\n",
       "      <td>0.588323</td>\n",
       "      <td>0.653288</td>\n",
       "      <td>0.682996</td>\n",
       "      <td>0.695317</td>\n",
       "    </tr>\n",
       "    <tr>\n",
       "      <th>v_mean_dias_activo_1</th>\n",
       "      <td>0.588323</td>\n",
       "      <td>1.000000</td>\n",
       "      <td>0.912526</td>\n",
       "      <td>0.859527</td>\n",
       "      <td>0.827566</td>\n",
       "    </tr>\n",
       "    <tr>\n",
       "      <th>v_mean_dias_activo_2</th>\n",
       "      <td>0.653288</td>\n",
       "      <td>0.912526</td>\n",
       "      <td>1.000000</td>\n",
       "      <td>0.964921</td>\n",
       "      <td>0.932535</td>\n",
       "    </tr>\n",
       "    <tr>\n",
       "      <th>v_mean_dias_activo_3</th>\n",
       "      <td>0.682996</td>\n",
       "      <td>0.859527</td>\n",
       "      <td>0.964921</td>\n",
       "      <td>1.000000</td>\n",
       "      <td>0.980140</td>\n",
       "    </tr>\n",
       "    <tr>\n",
       "      <th>v_mean_dias_activo_4</th>\n",
       "      <td>0.695317</td>\n",
       "      <td>0.827566</td>\n",
       "      <td>0.932535</td>\n",
       "      <td>0.980140</td>\n",
       "      <td>1.000000</td>\n",
       "    </tr>\n",
       "  </tbody>\n",
       "</table>\n",
       "</div>"
      ],
      "text/plain": [
       "                          v_total_trip_total_sum_4  v_mean_dias_activo_1  \\\n",
       "v_total_trip_total_sum_4                  1.000000              0.588323   \n",
       "v_mean_dias_activo_1                      0.588323              1.000000   \n",
       "v_mean_dias_activo_2                      0.653288              0.912526   \n",
       "v_mean_dias_activo_3                      0.682996              0.859527   \n",
       "v_mean_dias_activo_4                      0.695317              0.827566   \n",
       "\n",
       "                          v_mean_dias_activo_2  v_mean_dias_activo_3  \\\n",
       "v_total_trip_total_sum_4              0.653288              0.682996   \n",
       "v_mean_dias_activo_1                  0.912526              0.859527   \n",
       "v_mean_dias_activo_2                  1.000000              0.964921   \n",
       "v_mean_dias_activo_3                  0.964921              1.000000   \n",
       "v_mean_dias_activo_4                  0.932535              0.980140   \n",
       "\n",
       "                          v_mean_dias_activo_4  \n",
       "v_total_trip_total_sum_4              0.695317  \n",
       "v_mean_dias_activo_1                  0.827566  \n",
       "v_mean_dias_activo_2                  0.932535  \n",
       "v_mean_dias_activo_3                  0.980140  \n",
       "v_mean_dias_activo_4                  1.000000  "
      ]
     },
     "execution_count": 17,
     "metadata": {},
     "output_type": "execute_result"
    }
   ],
   "source": [
    "df[best_var].corr()"
   ]
  },
  {
   "cell_type": "code",
   "execution_count": 18,
   "metadata": {},
   "outputs": [],
   "source": [
    "from sklearn.linear_model import LogisticRegression\n",
    "from sklearn.model_selection import train_test_split\n",
    "from sklearn.metrics import roc_auc_score,accuracy_score"
   ]
  },
  {
   "cell_type": "code",
   "execution_count": 19,
   "metadata": {},
   "outputs": [
    {
     "name": "stdout",
     "output_type": "stream",
     "text": [
      "0.9290537590592892\n",
      "0.9099805767219482\n",
      "0.9679272379128769\n",
      "0.9743303571428571\n"
     ]
    },
    {
     "name": "stderr",
     "output_type": "stream",
     "text": [
      "/home/jose/Documentos/unam/repos/amv_2020_2/lib64/python3.6/site-packages/sklearn/utils/validation.py:760: DataConversionWarning: A column-vector y was passed when a 1d array was expected. Please change the shape of y to (n_samples, ), for example using ravel().\n",
      "  y = column_or_1d(y, warn=True)\n"
     ]
    }
   ],
   "source": [
    "modelo = LogisticRegression()\n",
    "\n",
    "Xt,Xv,yt,yv = train_test_split(X[best_var],y,train_size=0.7)\n",
    "\n",
    "modelo.fit(Xt,yt)\n",
    "\n",
    "print(roc_auc_score(y_true=yt,y_score=modelo.predict_proba(Xt)[:,1]))\n",
    "print(roc_auc_score(y_true=yv,y_score=modelo.predict_proba(Xv)[:,1]))\n",
    "\n",
    "print(accuracy_score(y_true=yt,y_pred=modelo.predict(Xt)))\n",
    "print(accuracy_score(y_true=yv,y_pred=modelo.predict(Xv)))"
   ]
  },
  {
   "cell_type": "code",
   "execution_count": 20,
   "metadata": {},
   "outputs": [],
   "source": [
    "df['p'] = modelo.predict_proba(X[best_var])[:,1]"
   ]
  },
  {
   "cell_type": "code",
   "execution_count": 21,
   "metadata": {},
   "outputs": [
    {
     "data": {
      "text/plain": [
       "<matplotlib.axes._subplots.AxesSubplot at 0x7fa3445c02e8>"
      ]
     },
     "execution_count": 21,
     "metadata": {},
     "output_type": "execute_result"
    },
    {
     "data": {
      "image/png": "[encoded data removed]",
      "text/plain": [
       "<Figure size 432x288 with 1 Axes>"
      ]
     },
     "metadata": {
      "needs_background": "light"
     },
     "output_type": "display_data"
    }
   ],
   "source": [
    "df['p'].hist()"
   ]
  },
  {
   "cell_type": "code",
   "execution_count": 22,
   "metadata": {},
   "outputs": [
    {
     "data": {
      "text/plain": [
       "(array([[ 1.29105709e-04, -4.34231844e-01, -3.98942919e-01,\n",
       "         -2.78471603e-01,  5.01107256e-02]]), array([0.61813889]))"
      ]
     },
     "execution_count": 22,
     "metadata": {},
     "output_type": "execute_result"
    }
   ],
   "source": [
    "modelo.coef_,modelo.intercept_"
   ]
  },
  {
   "cell_type": "code",
   "execution_count": 23,
   "metadata": {},
   "outputs": [],
   "source": [
    "import numpy as np"
   ]
  },
  {
   "cell_type": "code",
   "execution_count": 24,
   "metadata": {},
   "outputs": [],
   "source": [
    "df['r_proba'] = pd.cut(df['p'],bins=np.arange(0,1,0.1)).astype(str)"
   ]
  },
  {
   "cell_type": "code",
   "execution_count": 25,
   "metadata": {},
   "outputs": [
    {
     "data": {
      "text/plain": [
       "(0.0, 0.1]    0.914908\n",
       "(0.4, 0.5]    0.029816\n",
       "(0.1, 0.2]    0.028141\n",
       "(0.3, 0.4]    0.013400\n",
       "(0.2, 0.3]    0.013400\n",
       "(0.5, 0.6]    0.000335\n",
       "Name: r_proba, dtype: float64"
      ]
     },
     "execution_count": 25,
     "metadata": {},
     "output_type": "execute_result"
    }
   ],
   "source": [
    "df.r_proba.value_counts(True)"
   ]
  },
  {
   "cell_type": "code",
   "execution_count": 26,
   "metadata": {},
   "outputs": [],
   "source": [
    "df[['r_proba','y','v_mean_trip_total_sum_4']].to_excel('churn97.xlsx',index=False)"
   ]
  },
  {
   "cell_type": "code",
   "execution_count": 27,
   "metadata": {},
   "outputs": [
    {
     "data": {
      "text/plain": [
       "<seaborn.axisgrid.FacetGrid at 0x7fa341288550>"
      ]
     },
     "execution_count": 27,
     "metadata": {},
     "output_type": "execute_result"
    },
    {
     "data": {
      "image/png": "[encoded data removed]",
      "text/plain": [
       "<Figure size 402.375x360 with 1 Axes>"
      ]
     },
     "metadata": {
      "needs_background": "light"
     },
     "output_type": "display_data"
    }
   ],
   "source": [
    "\n",
    "\n",
    "from sklearn.decomposition import PCA\n",
    "from sklearn.preprocessing import StandardScaler\n",
    "\n",
    "sc = StandardScaler()\n",
    "Xs = pd.DataFrame(sc.fit_transform(X[best_var]),columns=best_var)\n",
    "\n",
    "pca = PCA()\n",
    "\n",
    "pca.fit(Xs)\n",
    "\n",
    "pca.explained_variance_ratio_.cumsum()\n",
    "\n",
    "Xp = pd.DataFrame(pca.transform(Xs),columns=['p%d'%(i+1) for i in range(5)])\n",
    "\n",
    "Xp['y'] = y\n",
    "\n",
    "import seaborn as sns\n",
    "\n",
    "sns.lmplot(data=Xp,x='p1',y='p2',hue='y',fit_reg=False)\n",
    "\n"
   ]
  },
  {
   "cell_type": "code",
   "execution_count": 28,
   "metadata": {},
   "outputs": [],
   "source": [
    "Xp['r_proba'] = df['r_proba']"
   ]
  },
  {
   "cell_type": "code",
   "execution_count": 29,
   "metadata": {},
   "outputs": [
    {
     "ename": "IndexError",
     "evalue": "invalid index to scalar variable.",
     "output_type": "error",
     "traceback": [
      "\u001b[0;31m---------------------------------------------------------------------------\u001b[0m",
      "\u001b[0;31mIndexError\u001b[0m                                Traceback (most recent call last)",
      "\u001b[0;32m<ipython-input-29-b5094514a120>\u001b[0m in \u001b[0;36m<module>\u001b[0;34m\u001b[0m\n\u001b[0;32m----> 1\u001b[0;31m \u001b[0msns\u001b[0m\u001b[0;34m.\u001b[0m\u001b[0mlmplot\u001b[0m\u001b[0;34m(\u001b[0m\u001b[0mdata\u001b[0m\u001b[0;34m=\u001b[0m\u001b[0mXp\u001b[0m\u001b[0;34m,\u001b[0m\u001b[0mx\u001b[0m\u001b[0;34m=\u001b[0m\u001b[0;34m'p1'\u001b[0m\u001b[0;34m,\u001b[0m\u001b[0my\u001b[0m\u001b[0;34m=\u001b[0m\u001b[0;34m'p2'\u001b[0m\u001b[0;34m,\u001b[0m\u001b[0mhue\u001b[0m\u001b[0;34m=\u001b[0m\u001b[0;34m'r_proba'\u001b[0m\u001b[0;34m,\u001b[0m\u001b[0mfit_reg\u001b[0m\u001b[0;34m=\u001b[0m\u001b[0;32mFalse\u001b[0m\u001b[0;34m)\u001b[0m\u001b[0;34m\u001b[0m\u001b[0;34m\u001b[0m\u001b[0m\n\u001b[0m",
      "\u001b[0;32m~/Documentos/unam/repos/amv_2020_2/lib64/python3.6/site-packages/seaborn/regression.py\u001b[0m in \u001b[0;36mlmplot\u001b[0;34m(x, y, data, hue, col, row, palette, col_wrap, height, aspect, markers, sharex, sharey, hue_order, col_order, row_order, legend, legend_out, x_estimator, x_bins, x_ci, scatter, fit_reg, ci, n_boot, units, seed, order, logistic, lowess, robust, logx, x_partial, y_partial, truncate, x_jitter, y_jitter, scatter_kws, line_kws, size)\u001b[0m\n\u001b[1;32m    615\u001b[0m         \u001b[0mscatter_kws\u001b[0m\u001b[0;34m=\u001b[0m\u001b[0mscatter_kws\u001b[0m\u001b[0;34m,\u001b[0m \u001b[0mline_kws\u001b[0m\u001b[0;34m=\u001b[0m\u001b[0mline_kws\u001b[0m\u001b[0;34m,\u001b[0m\u001b[0;34m\u001b[0m\u001b[0;34m\u001b[0m\u001b[0m\n\u001b[1;32m    616\u001b[0m         )\n\u001b[0;32m--> 617\u001b[0;31m     \u001b[0mfacets\u001b[0m\u001b[0;34m.\u001b[0m\u001b[0mmap_dataframe\u001b[0m\u001b[0;34m(\u001b[0m\u001b[0mregplot\u001b[0m\u001b[0;34m,\u001b[0m \u001b[0mx\u001b[0m\u001b[0;34m,\u001b[0m \u001b[0my\u001b[0m\u001b[0;34m,\u001b[0m \u001b[0;34m**\u001b[0m\u001b[0mregplot_kws\u001b[0m\u001b[0;34m)\u001b[0m\u001b[0;34m\u001b[0m\u001b[0;34m\u001b[0m\u001b[0m\n\u001b[0m\u001b[1;32m    618\u001b[0m \u001b[0;34m\u001b[0m\u001b[0m\n\u001b[1;32m    619\u001b[0m     \u001b[0;31m# Add a legend\u001b[0m\u001b[0;34m\u001b[0m\u001b[0;34m\u001b[0m\u001b[0;34m\u001b[0m\u001b[0m\n",
      "\u001b[0;32m~/Documentos/unam/repos/amv_2020_2/lib64/python3.6/site-packages/seaborn/axisgrid.py\u001b[0m in \u001b[0;36mmap_dataframe\u001b[0;34m(self, func, *args, **kwargs)\u001b[0m\n\u001b[1;32m    831\u001b[0m \u001b[0;34m\u001b[0m\u001b[0m\n\u001b[1;32m    832\u001b[0m             \u001b[0;31m# Draw the plot\u001b[0m\u001b[0;34m\u001b[0m\u001b[0;34m\u001b[0m\u001b[0;34m\u001b[0m\u001b[0m\n\u001b[0;32m--> 833\u001b[0;31m             \u001b[0mself\u001b[0m\u001b[0;34m.\u001b[0m\u001b[0m_facet_plot\u001b[0m\u001b[0;34m(\u001b[0m\u001b[0mfunc\u001b[0m\u001b[0;34m,\u001b[0m \u001b[0max\u001b[0m\u001b[0;34m,\u001b[0m \u001b[0margs\u001b[0m\u001b[0;34m,\u001b[0m \u001b[0mkwargs\u001b[0m\u001b[0;34m)\u001b[0m\u001b[0;34m\u001b[0m\u001b[0;34m\u001b[0m\u001b[0m\n\u001b[0m\u001b[1;32m    834\u001b[0m \u001b[0;34m\u001b[0m\u001b[0m\n\u001b[1;32m    835\u001b[0m         \u001b[0;31m# Finalize the annotations and layout\u001b[0m\u001b[0;34m\u001b[0m\u001b[0;34m\u001b[0m\u001b[0;34m\u001b[0m\u001b[0m\n",
      "\u001b[0;32m~/Documentos/unam/repos/amv_2020_2/lib64/python3.6/site-packages/seaborn/axisgrid.py\u001b[0m in \u001b[0;36m_facet_plot\u001b[0;34m(self, func, ax, plot_args, plot_kwargs)\u001b[0m\n\u001b[1;32m    849\u001b[0m \u001b[0;34m\u001b[0m\u001b[0m\n\u001b[1;32m    850\u001b[0m         \u001b[0;31m# Draw the plot\u001b[0m\u001b[0;34m\u001b[0m\u001b[0;34m\u001b[0m\u001b[0;34m\u001b[0m\u001b[0m\n\u001b[0;32m--> 851\u001b[0;31m         \u001b[0mfunc\u001b[0m\u001b[0;34m(\u001b[0m\u001b[0;34m*\u001b[0m\u001b[0mplot_args\u001b[0m\u001b[0;34m,\u001b[0m \u001b[0;34m**\u001b[0m\u001b[0mplot_kwargs\u001b[0m\u001b[0;34m)\u001b[0m\u001b[0;34m\u001b[0m\u001b[0;34m\u001b[0m\u001b[0m\n\u001b[0m\u001b[1;32m    852\u001b[0m \u001b[0;34m\u001b[0m\u001b[0m\n\u001b[1;32m    853\u001b[0m         \u001b[0;31m# Sort out the supporting information\u001b[0m\u001b[0;34m\u001b[0m\u001b[0;34m\u001b[0m\u001b[0;34m\u001b[0m\u001b[0m\n",
      "\u001b[0;32m~/Documentos/unam/repos/amv_2020_2/lib64/python3.6/site-packages/seaborn/regression.py\u001b[0m in \u001b[0;36mregplot\u001b[0;34m(x, y, data, x_estimator, x_bins, x_ci, scatter, fit_reg, ci, n_boot, units, seed, order, logistic, lowess, robust, logx, x_partial, y_partial, truncate, dropna, x_jitter, y_jitter, label, color, marker, scatter_kws, line_kws, ax)\u001b[0m\n\u001b[1;32m    808\u001b[0m                                  \u001b[0morder\u001b[0m\u001b[0;34m,\u001b[0m \u001b[0mlogistic\u001b[0m\u001b[0;34m,\u001b[0m \u001b[0mlowess\u001b[0m\u001b[0;34m,\u001b[0m \u001b[0mrobust\u001b[0m\u001b[0;34m,\u001b[0m \u001b[0mlogx\u001b[0m\u001b[0;34m,\u001b[0m\u001b[0;34m\u001b[0m\u001b[0;34m\u001b[0m\u001b[0m\n\u001b[1;32m    809\u001b[0m                                  \u001b[0mx_partial\u001b[0m\u001b[0;34m,\u001b[0m \u001b[0my_partial\u001b[0m\u001b[0;34m,\u001b[0m \u001b[0mtruncate\u001b[0m\u001b[0;34m,\u001b[0m \u001b[0mdropna\u001b[0m\u001b[0;34m,\u001b[0m\u001b[0;34m\u001b[0m\u001b[0;34m\u001b[0m\u001b[0m\n\u001b[0;32m--> 810\u001b[0;31m                                  x_jitter, y_jitter, color, label)\n\u001b[0m\u001b[1;32m    811\u001b[0m \u001b[0;34m\u001b[0m\u001b[0m\n\u001b[1;32m    812\u001b[0m     \u001b[0;32mif\u001b[0m \u001b[0max\u001b[0m \u001b[0;32mis\u001b[0m \u001b[0;32mNone\u001b[0m\u001b[0;34m:\u001b[0m\u001b[0;34m\u001b[0m\u001b[0;34m\u001b[0m\u001b[0m\n",
      "\u001b[0;32m~/Documentos/unam/repos/amv_2020_2/lib64/python3.6/site-packages/seaborn/regression.py\u001b[0m in \u001b[0;36m__init__\u001b[0;34m(self, x, y, data, x_estimator, x_bins, x_ci, scatter, fit_reg, ci, n_boot, units, seed, order, logistic, lowess, robust, logx, x_partial, y_partial, truncate, dropna, x_jitter, y_jitter, color, label)\u001b[0m\n\u001b[1;32m    112\u001b[0m         \u001b[0;31m# Drop null observations\u001b[0m\u001b[0;34m\u001b[0m\u001b[0;34m\u001b[0m\u001b[0;34m\u001b[0m\u001b[0m\n\u001b[1;32m    113\u001b[0m         \u001b[0;32mif\u001b[0m \u001b[0mdropna\u001b[0m\u001b[0;34m:\u001b[0m\u001b[0;34m\u001b[0m\u001b[0;34m\u001b[0m\u001b[0m\n\u001b[0;32m--> 114\u001b[0;31m             \u001b[0mself\u001b[0m\u001b[0;34m.\u001b[0m\u001b[0mdropna\u001b[0m\u001b[0;34m(\u001b[0m\u001b[0;34m\"x\"\u001b[0m\u001b[0;34m,\u001b[0m \u001b[0;34m\"y\"\u001b[0m\u001b[0;34m,\u001b[0m \u001b[0;34m\"units\"\u001b[0m\u001b[0;34m,\u001b[0m \u001b[0;34m\"x_partial\"\u001b[0m\u001b[0;34m,\u001b[0m \u001b[0;34m\"y_partial\"\u001b[0m\u001b[0;34m)\u001b[0m\u001b[0;34m\u001b[0m\u001b[0;34m\u001b[0m\u001b[0m\n\u001b[0m\u001b[1;32m    115\u001b[0m \u001b[0;34m\u001b[0m\u001b[0m\n\u001b[1;32m    116\u001b[0m         \u001b[0;31m# Regress nuisance variables out of the data\u001b[0m\u001b[0;34m\u001b[0m\u001b[0;34m\u001b[0m\u001b[0;34m\u001b[0m\u001b[0m\n",
      "\u001b[0;32m~/Documentos/unam/repos/amv_2020_2/lib64/python3.6/site-packages/seaborn/regression.py\u001b[0m in \u001b[0;36mdropna\u001b[0;34m(self, *vars)\u001b[0m\n\u001b[1;32m     64\u001b[0m             \u001b[0mval\u001b[0m \u001b[0;34m=\u001b[0m \u001b[0mgetattr\u001b[0m\u001b[0;34m(\u001b[0m\u001b[0mself\u001b[0m\u001b[0;34m,\u001b[0m \u001b[0mvar\u001b[0m\u001b[0;34m)\u001b[0m\u001b[0;34m\u001b[0m\u001b[0;34m\u001b[0m\u001b[0m\n\u001b[1;32m     65\u001b[0m             \u001b[0;32mif\u001b[0m \u001b[0mval\u001b[0m \u001b[0;32mis\u001b[0m \u001b[0;32mnot\u001b[0m \u001b[0;32mNone\u001b[0m\u001b[0;34m:\u001b[0m\u001b[0;34m\u001b[0m\u001b[0;34m\u001b[0m\u001b[0m\n\u001b[0;32m---> 66\u001b[0;31m                 \u001b[0msetattr\u001b[0m\u001b[0;34m(\u001b[0m\u001b[0mself\u001b[0m\u001b[0;34m,\u001b[0m \u001b[0mvar\u001b[0m\u001b[0;34m,\u001b[0m \u001b[0mval\u001b[0m\u001b[0;34m[\u001b[0m\u001b[0mnot_na\u001b[0m\u001b[0;34m]\u001b[0m\u001b[0;34m)\u001b[0m\u001b[0;34m\u001b[0m\u001b[0;34m\u001b[0m\u001b[0m\n\u001b[0m\u001b[1;32m     67\u001b[0m \u001b[0;34m\u001b[0m\u001b[0m\n\u001b[1;32m     68\u001b[0m     \u001b[0;32mdef\u001b[0m \u001b[0mplot\u001b[0m\u001b[0;34m(\u001b[0m\u001b[0mself\u001b[0m\u001b[0;34m,\u001b[0m \u001b[0max\u001b[0m\u001b[0;34m)\u001b[0m\u001b[0;34m:\u001b[0m\u001b[0;34m\u001b[0m\u001b[0;34m\u001b[0m\u001b[0m\n",
      "\u001b[0;31mIndexError\u001b[0m: invalid index to scalar variable."
     ]
    },
    {
     "data": {
      "image/png": "[encoded data removed]",
      "text/plain": [
       "<Figure size 360x360 with 1 Axes>"
      ]
     },
     "metadata": {
      "needs_background": "light"
     },
     "output_type": "display_data"
    }
   ],
   "source": [
    "sns.lmplot(data=Xp,x='p1',y='p2',hue='r_proba',fit_reg=False)"
   ]
  },
  {
   "cell_type": "code",
   "execution_count": null,
   "metadata": {},
   "outputs": [],
   "source": []
  }
 ],
 "metadata": {
  "kernelspec": {
   "display_name": "Python 3",
   "language": "python",
   "name": "python3"
  },
  "language_info": {
   "codemirror_mode": {
    "name": "ipython",
    "version": 3
   },
   "file_extension": ".py",
   "mimetype": "text/x-python",
   "name": "python",
   "nbconvert_exporter": "python",
   "pygments_lexer": "ipython3",
   "version": "3.6.8"
  }
 },
 "nbformat": 4,
 "nbformat_minor": 4
}
