{
 "cells": [
  {
   "cell_type": "code",
   "execution_count": 16,
   "metadata": {},
   "outputs": [],
   "source": [
    "from sklearn.datasets import load_iris\n",
    "from sklearn.neural_network import MLPClassifier\n",
    "from sklearn.model_selection import train_test_split\n",
    "from sklearn.metrics import accuracy_score"
   ]
  },
  {
   "cell_type": "code",
   "execution_count": 17,
   "metadata": {},
   "outputs": [],
   "source": [
    "data = load_iris()"
   ]
  },
  {
   "cell_type": "code",
   "execution_count": 18,
   "metadata": {},
   "outputs": [],
   "source": [
    "X, y = data.data,data.target"
   ]
  },
  {
   "cell_type": "code",
   "execution_count": 19,
   "metadata": {},
   "outputs": [],
   "source": [
    "Xt, Xv, yt, yv = train_test_split(X,y,train_size=0.7)"
   ]
  },
  {
   "cell_type": "code",
   "execution_count": 20,
   "metadata": {},
   "outputs": [
    {
     "data": {
      "text/plain": [
       "((105, 4), (45, 4), (105,), (45,))"
      ]
     },
     "execution_count": 20,
     "metadata": {},
     "output_type": "execute_result"
    }
   ],
   "source": [
    "Xt.shape, Xv.shape, yt.shape, yv.shape"
   ]
  },
  {
   "cell_type": "code",
   "execution_count": 37,
   "metadata": {},
   "outputs": [],
   "source": [
    "ann = MLPClassifier(solver='sgd',max_iter=len(Xt)*10,\n",
    "                    learning_rate='adaptive',activation='relu',\n",
    "                    hidden_layer_sizes=(10,10,5,))"
   ]
  },
  {
   "cell_type": "code",
   "execution_count": 38,
   "metadata": {},
   "outputs": [
    {
     "data": {
      "text/plain": [
       "MLPClassifier(activation='relu', alpha=0.0001, batch_size='auto', beta_1=0.9,\n",
       "              beta_2=0.999, early_stopping=False, epsilon=1e-08,\n",
       "              hidden_layer_sizes=(10, 10, 5), learning_rate='adaptive',\n",
       "              learning_rate_init=0.001, max_fun=15000, max_iter=1050,\n",
       "              momentum=0.9, n_iter_no_change=10, nesterovs_momentum=True,\n",
       "              power_t=0.5, random_state=None, shuffle=True, solver='sgd',\n",
       "              tol=0.0001, validation_fraction=0.1, verbose=False,\n",
       "              warm_start=False)"
      ]
     },
     "execution_count": 38,
     "metadata": {},
     "output_type": "execute_result"
    }
   ],
   "source": [
    "ann.fit(Xt,yt)"
   ]
  },
  {
   "cell_type": "code",
   "execution_count": 39,
   "metadata": {},
   "outputs": [
    {
     "name": "stdout",
     "output_type": "stream",
     "text": [
      "0.9809523809523809\n",
      "0.9777777777777777\n"
     ]
    }
   ],
   "source": [
    "print(accuracy_score(y_true=yt,y_pred=ann.predict(Xt)))\n",
    "print(accuracy_score(y_true=yv,y_pred=ann.predict(Xv)))"
   ]
  },
  {
   "cell_type": "code",
   "execution_count": 40,
   "metadata": {},
   "outputs": [
    {
     "data": {
      "text/plain": [
       "[array([[ 3.20698241e-01, -1.92848975e-01, -7.84243192e-02,\n",
       "         -1.42365540e-01, -1.81593455e-01, -5.87718443e-01,\n",
       "         -3.46252333e-01, -1.25642280e-01, -6.53243087e-01,\n",
       "          2.89191327e-01],\n",
       "        [ 1.03843174e+00, -2.97674748e-01,  1.67295218e-01,\n",
       "         -1.38814468e-01,  1.03391569e-01,  7.75747290e-04,\n",
       "          3.04696688e-01,  4.55289137e-01, -5.05504431e-01,\n",
       "         -1.23225311e-01],\n",
       "        [-3.80873932e-01,  2.21764300e-01, -3.19765836e-01,\n",
       "          8.46324449e-02, -2.66270768e-01,  2.55783227e-01,\n",
       "          6.94767048e-01, -2.14734348e-01, -2.20344240e-01,\n",
       "          8.34055611e-01],\n",
       "        [-6.96756116e-01, -6.21883186e-02, -5.30106676e-01,\n",
       "         -6.46265109e-01, -3.94058115e-01, -2.29726687e-01,\n",
       "          7.59284782e-01,  7.24900766e-02,  4.42527524e-01,\n",
       "         -4.11639695e-01]]),\n",
       " array([[ 0.2511675 ,  0.65450793,  0.09266169,  0.53990673, -0.3947221 ,\n",
       "         -0.00208491,  0.71699693, -0.2782785 ,  0.70194488, -0.80715449],\n",
       "        [-0.3596655 , -0.50939627,  0.01198389,  0.53879759,  0.47182996,\n",
       "         -0.2152321 ,  0.12886547, -0.32654332, -0.08742147, -0.2963323 ],\n",
       "        [-0.29275015, -0.29312002, -0.40047237, -0.49228907, -0.29207839,\n",
       "          0.12746232,  0.21501901,  0.19511313, -0.22693739,  0.16936394],\n",
       "        [ 0.02529815,  0.36495458,  0.22136393,  0.13486066,  0.52314152,\n",
       "          0.31801706, -0.26834547, -0.1849571 , -0.53891881, -0.00100857],\n",
       "        [-0.19209723, -0.4749396 , -0.11706526,  0.49687279, -0.2784367 ,\n",
       "          0.49059136, -0.5465553 , -0.21753429,  0.34546188, -0.51877727],\n",
       "        [ 0.02982787,  0.08645366, -0.43822964, -0.18979837,  0.36877993,\n",
       "         -0.4355092 ,  0.29068813,  0.27740523, -0.22079682, -0.32936089],\n",
       "        [-0.21198442, -0.09886801, -0.14863712,  0.1824542 ,  0.62993114,\n",
       "         -0.23591343,  0.01022675,  0.55765222, -0.09778327,  0.79496935],\n",
       "        [-0.31126023,  0.08754717, -0.20680192,  0.29338593, -0.37004256,\n",
       "         -0.32604613,  0.20545275, -0.23779228, -0.37792537, -0.24277103],\n",
       "        [ 0.19346047, -0.50927591, -0.01688978, -0.0660998 ,  0.54031151,\n",
       "          0.38303122, -0.19074326, -0.3395149 , -0.22669292,  0.05104   ],\n",
       "        [-0.25670704,  0.05023016, -0.03386124,  0.11056942,  0.54567139,\n",
       "         -0.40276117, -0.18287394,  0.41331158,  0.45417105,  0.13268892]]),\n",
       " array([[-2.33472237e-01, -5.96193437e-01, -2.63885855e-01,\n",
       "         -6.12591057e-01, -3.54985874e-02],\n",
       "        [-4.90613421e-01,  4.67296304e-02, -3.16670630e-01,\n",
       "          1.90999772e-01,  5.64698719e-01],\n",
       "        [-1.75284120e-01, -1.45041438e-01, -4.91621949e-01,\n",
       "          4.97294392e-01,  1.31325395e-01],\n",
       "        [-4.23101595e-01, -1.68672392e-01, -4.95967594e-01,\n",
       "          1.64610358e-01,  2.99328085e-01],\n",
       "        [-5.14795126e-01, -4.08024514e-02,  7.89515567e-01,\n",
       "         -5.63740960e-01, -6.18486804e-01],\n",
       "        [ 1.59764040e-01,  1.67314222e-01, -5.52298515e-03,\n",
       "         -3.20809643e-01,  1.95071311e-01],\n",
       "        [-4.85305464e-04,  5.65681024e-01,  2.57367484e-01,\n",
       "          3.04746457e-01,  4.31000253e-01],\n",
       "        [-6.24309198e-01, -3.59672132e-01,  7.67034222e-01,\n",
       "          1.04094659e-01, -3.91295798e-01],\n",
       "        [-2.67408299e-02,  9.99669254e-01,  4.96846538e-01,\n",
       "         -4.74643083e-01,  8.19270889e-02],\n",
       "        [ 4.32664890e-01, -9.86523236e-01,  6.96683324e-01,\n",
       "          4.89248638e-01,  4.46585908e-01]]),\n",
       " array([[-4.86744045e-01,  7.08451716e-01, -5.47201688e-01],\n",
       "        [ 2.19584204e-01,  6.54133282e-01, -1.26501070e+00],\n",
       "        [-1.08329440e-01,  6.50528607e-01,  1.22060888e+00],\n",
       "        [ 7.99804348e-01,  8.68292033e-01,  6.55424328e-01],\n",
       "        [ 1.09572630e+00, -4.28089909e-01,  5.96624917e-04]])]"
      ]
     },
     "execution_count": 40,
     "metadata": {},
     "output_type": "execute_result"
    }
   ],
   "source": [
    "ann.coefs_"
   ]
  },
  {
   "cell_type": "code",
   "execution_count": null,
   "metadata": {},
   "outputs": [],
   "source": []
  }
 ],
 "metadata": {
  "kernelspec": {
   "display_name": "Python 3",
   "language": "python",
   "name": "python3"
  },
  "language_info": {
   "codemirror_mode": {
    "name": "ipython",
    "version": 3
   },
   "file_extension": ".py",
   "mimetype": "text/x-python",
   "name": "python",
   "nbconvert_exporter": "python",
   "pygments_lexer": "ipython3",
   "version": "3.6.8"
  }
 },
 "nbformat": 4,
 "nbformat_minor": 4
}
